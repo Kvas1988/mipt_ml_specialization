{
 "cells": [
  {
   "cell_type": "markdown",
   "metadata": {
    "Collapsed": "false",
    "colab_type": "text",
    "id": "3TSkJbfmUVHK"
   },
   "source": [
    "<center>\n",
    "<img src=\"https://habrastorage.org/web/677/8e1/337/6778e1337c3d4b159d7e99df94227cb2.jpg\"/>\n",
    "## Специализация \"Машинное обучение и анализ данных\"\n",
    "<center>Автор материала: программист-исследователь Mail.Ru Group, старший преподаватель Факультета Компьютерных Наук ВШЭ [Юрий Кашницкий](https://yorko.github.io/)"
   ]
  },
  {
   "cell_type": "markdown",
   "metadata": {
    "Collapsed": "false",
    "colab_type": "text",
    "id": "Dj4ur8zmUVHN"
   },
   "source": [
    "# <center> Capstone проект №1 <br> Идентификация пользователей по посещенным веб-страницам\n",
    "<img src='http://i.istockimg.com/file_thumbview_approve/21546327/5/stock-illustration-21546327-identification-de-l-utilisateur.jpg'>\n",
    "\n",
    "# <center>Неделя 4.  Сравнение алгоритмов классификации\n",
    "\n",
    "Теперь мы наконец подойдем к обучению моделей классификации, сравним на кросс-валидации несколько алгоритмов, разберемся, какие параметры длины сессии (*session_length* и *window_size*) лучше использовать. Также для выбранного алгоритма построим кривые валидации (как качество классификации зависит от одного из гиперпараметров алгоритма) и кривые обучения (как качество классификации зависит от объема выборки).\n",
    "\n",
    "**План 4 недели:**\n",
    "- Часть 1. Сравнение нескольких алгоритмов на сессиях из 10 сайтов\n",
    "- Часть 2. Выбор параметров – длины сессии и ширины окна\n",
    "- Часть 3. Идентификация  конкретного пользователя и кривые обучения\n",
    " \n",
    "\n",
    "\n",
    "**В этой части проекта Вам могут быть полезны видеозаписи следующих лекций курса \"Обучение на размеченных данных\":**\n",
    "   - [Линейная классификация](https://www.coursera.org/learn/supervised-learning/lecture/jqLcO/linieinaia-klassifikatsiia)\n",
    "   - [Сравнение алгоритмов и выбор гиперпараметров](https://www.coursera.org/learn/supervised-learning/lecture/aF79U/sravnieniie-alghoritmov-i-vybor-ghipierparamietrov)\n",
    "   - [Кросс-валидация. Sklearn.cross_validation](https://www.coursera.org/learn/supervised-learning/lecture/XbHEk/kross-validatsiia-sklearn-cross-validation)\n",
    "   - [Линейные модели. Sklearn.linear_model. Классификация](https://www.coursera.org/learn/supervised-learning/lecture/EBg9t/linieinyie-modieli-sklearn-linear-model-klassifikatsiia)\n",
    "   - и многие другие\n"
   ]
  },
  {
   "cell_type": "markdown",
   "metadata": {
    "Collapsed": "false",
    "colab_type": "text",
    "id": "ziu6LTLPUVHO"
   },
   "source": [
    "### Задание\n",
    "1. Заполните код в этой тетрадке \n",
    "2. Если вы проходите специализацию Яндеса и МФТИ, пошлите файл с ответами в соответствующем Programming Assignment. <br> Если вы проходите курс ODS, выберите ответы в [веб-форме](https://docs.google.com/forms/d/12VB7kmzDoSVzSpQNaJp0tR-2t8K8PynQopP3dypf7i4).  "
   ]
  },
  {
   "cell_type": "code",
   "execution_count": 3,
   "metadata": {
    "Collapsed": "false",
    "ExecuteTime": {
     "end_time": "2020-03-03T12:40:01.313115Z",
     "start_time": "2020-03-03T12:39:58.553233Z"
    },
    "colab": {
     "base_uri": "https://localhost:8080/",
     "height": 326
    },
    "colab_type": "code",
    "executionInfo": {
     "elapsed": 7630,
     "status": "ok",
     "timestamp": 1582808078892,
     "user": {
      "displayName": "Kvas",
      "photoUrl": "",
      "userId": "07486278925607026684"
     },
     "user_tz": -180
    },
    "id": "L8fZjkv3U3_i",
    "outputId": "9d9c75b4-d585-4203-a1c9-f71a310d00cb"
   },
   "outputs": [
    {
     "name": "stdout",
     "output_type": "stream",
     "text": [
      "Requirement already satisfied: watermark in c:\\anaconda3\\lib\\site-packages (2.0.2)\n",
      "Requirement already satisfied: ipython in c:\\anaconda3\\lib\\site-packages (from watermark) (6.5.0)\n",
      "Requirement already satisfied: prompt-toolkit<2.0.0,>=1.0.15 in c:\\anaconda3\\lib\\site-packages (from ipython->watermark) (1.0.15)\n",
      "Requirement already satisfied: jedi>=0.10 in c:\\anaconda3\\lib\\site-packages (from ipython->watermark) (0.15.2)\n",
      "Requirement already satisfied: pygments in c:\\anaconda3\\lib\\site-packages (from ipython->watermark) (2.2.0)\n",
      "Requirement already satisfied: colorama; sys_platform == \"win32\" in c:\\anaconda3\\lib\\site-packages (from ipython->watermark) (0.3.9)\n",
      "Requirement already satisfied: decorator in c:\\anaconda3\\lib\\site-packages (from ipython->watermark) (4.3.0)\n",
      "Requirement already satisfied: simplegeneric>0.8 in c:\\anaconda3\\lib\\site-packages (from ipython->watermark) (0.8.1)\n",
      "Requirement already satisfied: setuptools>=18.5 in c:\\anaconda3\\lib\\site-packages (from ipython->watermark) (45.1.0)\n",
      "Requirement already satisfied: backcall in c:\\anaconda3\\lib\\site-packages (from ipython->watermark) (0.1.0)\n",
      "Requirement already satisfied: traitlets>=4.2 in c:\\anaconda3\\lib\\site-packages (from ipython->watermark) (4.3.2)\n",
      "Requirement already satisfied: pickleshare in c:\\anaconda3\\lib\\site-packages (from ipython->watermark) (0.7.4)\n",
      "Requirement already satisfied: six>=1.9.0 in c:\\anaconda3\\lib\\site-packages (from prompt-toolkit<2.0.0,>=1.0.15->ipython->watermark) (1.11.0)\n",
      "Requirement already satisfied: wcwidth in c:\\anaconda3\\lib\\site-packages (from prompt-toolkit<2.0.0,>=1.0.15->ipython->watermark) (0.1.7)\n",
      "Requirement already satisfied: parso>=0.5.2 in c:\\anaconda3\\lib\\site-packages (from jedi>=0.10->ipython->watermark) (0.5.2)\n",
      "Requirement already satisfied: ipython-genutils in c:\\anaconda3\\lib\\site-packages (from traitlets>=4.2->ipython->watermark) (0.2.0)\n"
     ]
    },
    {
     "name": "stderr",
     "output_type": "stream",
     "text": [
      "WARNING: You are using pip version 19.3.1; however, version 20.0.2 is available.\n",
      "You should consider upgrading via the 'python -m pip install --upgrade pip' command.\n"
     ]
    }
   ],
   "source": [
    "!pip install watermark"
   ]
  },
  {
   "cell_type": "code",
   "execution_count": 4,
   "metadata": {
    "Collapsed": "false",
    "ExecuteTime": {
     "end_time": "2020-03-03T12:40:01.766203Z",
     "start_time": "2020-03-03T12:40:01.315142Z"
    },
    "colab": {},
    "colab_type": "code",
    "id": "PsMPDBrYUVHQ"
   },
   "outputs": [],
   "source": [
    "# pip install watermark\n",
    "%load_ext watermark"
   ]
  },
  {
   "cell_type": "code",
   "execution_count": 5,
   "metadata": {
    "Collapsed": "false",
    "ExecuteTime": {
     "end_time": "2020-03-03T12:40:03.457801Z",
     "start_time": "2020-03-03T12:40:01.767114Z"
    },
    "colab": {
     "base_uri": "https://localhost:8080/",
     "height": 323
    },
    "colab_type": "code",
    "executionInfo": {
     "elapsed": 6957,
     "status": "ok",
     "timestamp": 1582808079177,
     "user": {
      "displayName": "Kvas",
      "photoUrl": "",
      "userId": "07486278925607026684"
     },
     "user_tz": -180
    },
    "id": "AeSXv9NHUVHW",
    "outputId": "b265270b-b83c-4ecf-c82a-b54e7e29ad47"
   },
   "outputs": [
    {
     "name": "stdout",
     "output_type": "stream",
     "text": [
      "CPython 3.7.0\n",
      "IPython 6.5.0\n",
      "\n",
      "numpy 1.15.4\n",
      "scipy 1.1.0\n",
      "pandas 0.25.0\n",
      "matplotlib 3.1.2\n",
      "statsmodels 0.10.0\n",
      "sklearn 0.0\n",
      "\n",
      "compiler   : MSC v.1912 64 bit (AMD64)\n",
      "system     : Windows\n",
      "release    : 10\n",
      "machine    : AMD64\n",
      "processor  : Intel64 Family 6 Model 94 Stepping 3, GenuineIntel\n",
      "CPU cores  : 8\n",
      "interpreter: 64bit\n",
      "Git hash   :\n"
     ]
    }
   ],
   "source": [
    "%watermark -v -m -p numpy,scipy,pandas,matplotlib,statsmodels,sklearn -g"
   ]
  },
  {
   "cell_type": "code",
   "execution_count": 6,
   "metadata": {
    "Collapsed": "false",
    "ExecuteTime": {
     "end_time": "2020-03-03T12:40:04.479778Z",
     "start_time": "2020-03-03T12:40:03.459825Z"
    },
    "colab": {},
    "colab_type": "code",
    "id": "5XZxTi5-UVHa"
   },
   "outputs": [],
   "source": [
    "from __future__ import division, print_function\n",
    "# отключим всякие предупреждения Anaconda\n",
    "import warnings\n",
    "warnings.filterwarnings('ignore')\n",
    "from time import time\n",
    "import itertools\n",
    "import os\n",
    "import numpy as np\n",
    "import pandas as pd\n",
    "import seaborn as sns\n",
    "%matplotlib inline\n",
    "from matplotlib import pyplot as plt\n",
    "import pickle\n",
    "from scipy.sparse import csr_matrix\n",
    "from sklearn.model_selection import train_test_split, cross_val_score, StratifiedKFold, GridSearchCV\n",
    "from sklearn.metrics import accuracy_score, f1_score"
   ]
  },
  {
   "cell_type": "code",
   "execution_count": 7,
   "metadata": {
    "Collapsed": "false",
    "ExecuteTime": {
     "end_time": "2020-03-03T12:40:04.484726Z",
     "start_time": "2020-03-03T12:40:04.481762Z"
    },
    "colab": {
     "base_uri": "https://localhost:8080/",
     "height": 139
    },
    "colab_type": "code",
    "executionInfo": {
     "elapsed": 22520,
     "status": "ok",
     "timestamp": 1582808109931,
     "user": {
      "displayName": "Kvas",
      "photoUrl": "",
      "userId": "07486278925607026684"
     },
     "user_tz": -180
    },
    "id": "-h6v7YyBUVHg",
    "outputId": "6665f0e7-7b88-409e-d2f9-0905b1f99f5e"
   },
   "outputs": [],
   "source": [
    "import sys\n",
    "is_colab = 'google.colab' in sys.modules\n",
    "\n",
    "if is_colab:\n",
    "    from google.colab import drive\n",
    "    drive.mount('/gdrive')\n",
    "    %cd /gdrive\n",
    "\n",
    "# Поменяйте на свой путь к данным\n",
    "PATH_TO_DATA = 'capstone_user_identification'\n",
    "if is_colab:\n",
    "    PATH_TO_DATA = '/gdrive/My Drive/Colab Notebooks/Stepik/6_reg/capstone_user_identification'    "
   ]
  },
  {
   "cell_type": "markdown",
   "metadata": {
    "Collapsed": "false",
    "colab_type": "text",
    "id": "f2_CI26sUVHk"
   },
   "source": [
    "## Часть 1. Сравнение нескольких алгоритмов на сессиях из 10 сайтов"
   ]
  },
  {
   "cell_type": "markdown",
   "metadata": {
    "Collapsed": "false",
    "colab_type": "text",
    "id": "GpkT_0gOUVHl"
   },
   "source": [
    "**Загрузим сериализованные ранее объекты *X_sparse_10users* и *y_10users*, соответствующие обучающей выборке для 10 пользователей.**"
   ]
  },
  {
   "cell_type": "code",
   "execution_count": 8,
   "metadata": {
    "Collapsed": "false",
    "ExecuteTime": {
     "end_time": "2020-03-03T12:40:04.601810Z",
     "start_time": "2020-03-03T12:40:04.486723Z"
    },
    "colab": {},
    "colab_type": "code",
    "id": "nGM0ljlYUVHm"
   },
   "outputs": [],
   "source": [
    "with open(os.path.join(PATH_TO_DATA, \n",
    "         'X_sparse_10users.pkl'), 'rb') as X_sparse_10users_pkl:\n",
    "    X_sparse_10users = pickle.load(X_sparse_10users_pkl)\n",
    "with open(os.path.join(PATH_TO_DATA, \n",
    "                       'y_10users.pkl'), 'rb') as y_10users_pkl:\n",
    "    y_10users = pickle.load(y_10users_pkl)"
   ]
  },
  {
   "cell_type": "markdown",
   "metadata": {
    "Collapsed": "false",
    "colab_type": "text",
    "id": "yWBoWHZ5UVHq"
   },
   "source": [
    "**Здесь более 14 тысяч сессий и почти 5 тысяч уникальных посещенных сайтов.**"
   ]
  },
  {
   "cell_type": "code",
   "execution_count": 9,
   "metadata": {
    "Collapsed": "false",
    "ExecuteTime": {
     "end_time": "2020-03-03T12:40:04.607754Z",
     "start_time": "2020-03-03T12:40:04.602767Z"
    },
    "colab": {
     "base_uri": "https://localhost:8080/",
     "height": 34
    },
    "colab_type": "code",
    "executionInfo": {
     "elapsed": 628,
     "status": "ok",
     "timestamp": 1582819800837,
     "user": {
      "displayName": "Kvas",
      "photoUrl": "",
      "userId": "07486278925607026684"
     },
     "user_tz": -180
    },
    "id": "7Ww4wLUnUVHr",
    "outputId": "c61be22d-acb6-4290-826a-affaf047cc6c"
   },
   "outputs": [
    {
     "data": {
      "text/plain": [
       "(14061, 4913)"
      ]
     },
     "execution_count": 9,
     "metadata": {},
     "output_type": "execute_result"
    }
   ],
   "source": [
    "X_sparse_10users.shape"
   ]
  },
  {
   "cell_type": "markdown",
   "metadata": {
    "Collapsed": "false",
    "colab_type": "text",
    "id": "Asi9a1kHUVHu"
   },
   "source": [
    "**Разобьем выборку на 2 части. На одной будем проводить кросс-валидацию, на второй – оценивать модель, обученную после кросс-валидации.**"
   ]
  },
  {
   "cell_type": "code",
   "execution_count": 10,
   "metadata": {
    "Collapsed": "false",
    "ExecuteTime": {
     "end_time": "2020-03-03T12:40:04.635807Z",
     "start_time": "2020-03-03T12:40:04.609724Z"
    },
    "colab": {},
    "colab_type": "code",
    "id": "4mNEMdCmUVHw"
   },
   "outputs": [],
   "source": [
    "X_train, X_valid, y_train, y_valid = train_test_split(X_sparse_10users, y_10users, \n",
    "                                                      test_size=0.3, \n",
    "                                                     random_state=17, stratify=y_10users)"
   ]
  },
  {
   "cell_type": "markdown",
   "metadata": {
    "Collapsed": "false",
    "colab_type": "text",
    "id": "VPc6eViZUVH0"
   },
   "source": [
    "**Зададим заранее тип кросс-валидации: 3-кратная, с перемешиванием, параметр random_state=17 – для воспроизводимости.**"
   ]
  },
  {
   "cell_type": "code",
   "execution_count": 11,
   "metadata": {
    "Collapsed": "false",
    "ExecuteTime": {
     "end_time": "2020-03-03T12:40:04.639723Z",
     "start_time": "2020-03-03T12:40:04.636751Z"
    },
    "colab": {},
    "colab_type": "code",
    "id": "j_rS_9hBUVH2"
   },
   "outputs": [],
   "source": [
    "skf = StratifiedKFold(n_splits=3, shuffle=True, random_state=17)"
   ]
  },
  {
   "cell_type": "markdown",
   "metadata": {
    "Collapsed": "false",
    "colab_type": "text",
    "id": "Yi8eZo9QUVH6"
   },
   "source": [
    "**Вспомогательная функция для отрисовки кривых валидации после запуска GridSearchCV (или RandomizedCV).**"
   ]
  },
  {
   "cell_type": "code",
   "execution_count": 12,
   "metadata": {
    "Collapsed": "false",
    "ExecuteTime": {
     "end_time": "2020-03-03T12:40:04.646756Z",
     "start_time": "2020-03-03T12:40:04.641726Z"
    },
    "colab": {},
    "colab_type": "code",
    "id": "g265_nqmUVH7"
   },
   "outputs": [],
   "source": [
    "def plot_validation_curves(param_values, grid_cv_results_):\n",
    "    train_mu, train_std = grid_cv_results_['mean_train_score'], grid_cv_results_['std_train_score']\n",
    "    valid_mu, valid_std = grid_cv_results_['mean_test_score'], grid_cv_results_['std_test_score']\n",
    "    train_line = plt.plot(param_values, train_mu, '-', label='train', color='green')\n",
    "    valid_line = plt.plot(param_values, valid_mu, '-', label='test', color='red')\n",
    "    plt.fill_between(param_values, train_mu - train_std, train_mu + train_std, edgecolor='none',\n",
    "                     facecolor=train_line[0].get_color(), alpha=0.2)\n",
    "    plt.fill_between(param_values, valid_mu - valid_std, valid_mu + valid_std, edgecolor='none',\n",
    "                     facecolor=valid_line[0].get_color(), alpha=0.2)\n",
    "    plt.legend()"
   ]
  },
  {
   "cell_type": "markdown",
   "metadata": {
    "Collapsed": "false",
    "colab_type": "text",
    "id": "lH62gDzRUVH-"
   },
   "source": [
    "**1. Обучите `KNeighborsClassifier` со 100 ближайшими соседями (остальные параметры оставьте по умолчанию, только `n_jobs`=-1 для распараллеливания) и посмотрите на долю правильных ответов на 3-кратной кросс-валидации (ради воспроизводимости используйте для этого объект `StratifiedKFold` `skf`) по выборке `(X_train, y_train)` и отдельно на выборке `(X_valid, y_valid)`.**"
   ]
  },
  {
   "cell_type": "code",
   "execution_count": 13,
   "metadata": {
    "Collapsed": "false",
    "ExecuteTime": {
     "end_time": "2020-03-03T12:40:04.829477Z",
     "start_time": "2020-03-03T12:40:04.647778Z"
    },
    "colab": {},
    "colab_type": "code",
    "id": "nOdonSprUVH-"
   },
   "outputs": [],
   "source": [
    "from sklearn.neighbors import KNeighborsClassifier"
   ]
  },
  {
   "cell_type": "code",
   "execution_count": 14,
   "metadata": {
    "Collapsed": "false",
    "ExecuteTime": {
     "end_time": "2020-03-03T12:40:04.834418Z",
     "start_time": "2020-03-03T12:40:04.830422Z"
    },
    "colab": {},
    "colab_type": "code",
    "id": "SaYvUoiwUVIE"
   },
   "outputs": [],
   "source": [
    "knn = KNeighborsClassifier(n_neighbors=100, n_jobs=-1)"
   ]
  },
  {
   "cell_type": "code",
   "execution_count": 15,
   "metadata": {
    "Collapsed": "false",
    "ExecuteTime": {
     "end_time": "2020-03-03T12:40:04.841388Z",
     "start_time": "2020-03-03T12:40:04.835418Z"
    },
    "colab": {},
    "colab_type": "code",
    "id": "OmprDxdOATkb"
   },
   "outputs": [],
   "source": [
    "# y_train = y_train.astype('int')\n",
    "# X_train = X_train.astype('int')"
   ]
  },
  {
   "cell_type": "code",
   "execution_count": 16,
   "metadata": {
    "Collapsed": "false",
    "ExecuteTime": {
     "end_time": "2020-03-03T12:40:07.144386Z",
     "start_time": "2020-03-03T12:40:04.843389Z"
    },
    "colab": {},
    "colab_type": "code",
    "id": "V_-mgqS54-ZI"
   },
   "outputs": [],
   "source": [
    "cv_score = []\n",
    "for train_index, test_index in skf.split(X_train, y_train):\n",
    "    X_tr = X_train[train_index]\n",
    "    y_tr = y_train[train_index]\n",
    "    X_tst = X_train[test_index]\n",
    "    y_tst = y_train[test_index]\n",
    "\n",
    "    knn.fit(X_tr, y_tr)\n",
    "    # prediction = knn.predict(X_tst)\n",
    "    cv_score.append( accuracy_score(y_tst, knn.predict(X_tst)) )"
   ]
  },
  {
   "cell_type": "markdown",
   "metadata": {
    "Collapsed": "false",
    "colab_type": "text",
    "id": "1Ro40nHCUVII"
   },
   "source": [
    "**<font color='red'>Вопрос 1. </font> Посчитайте доли правильных ответов для KNeighborsClassifier на кросс-валидации и отложенной выборке. Округлите каждое до 3 знаков после запятой и введите через пробел.**"
   ]
  },
  {
   "cell_type": "code",
   "execution_count": 17,
   "metadata": {
    "Collapsed": "false",
    "ExecuteTime": {
     "end_time": "2020-03-03T12:40:07.150393Z",
     "start_time": "2020-03-03T12:40:07.146388Z"
    },
    "colab": {
     "base_uri": "https://localhost:8080/",
     "height": 34
    },
    "colab_type": "code",
    "executionInfo": {
     "elapsed": 1789,
     "status": "ok",
     "timestamp": 1582814925919,
     "user": {
      "displayName": "Kvas",
      "photoUrl": "",
      "userId": "07486278925607026684"
     },
     "user_tz": -180
    },
    "id": "YcfWHFwjF21Q",
    "outputId": "0a968d42-4fed-4050-97e1-17dcdebeb64e"
   },
   "outputs": [
    {
     "data": {
      "text/plain": [
       "0.562"
      ]
     },
     "execution_count": 17,
     "metadata": {},
     "output_type": "execute_result"
    }
   ],
   "source": [
    "round(np.array(cv_score).mean(), 3)"
   ]
  },
  {
   "cell_type": "code",
   "execution_count": 18,
   "metadata": {
    "Collapsed": "false",
    "ExecuteTime": {
     "end_time": "2020-03-03T12:40:08.562720Z",
     "start_time": "2020-03-03T12:40:07.152389Z"
    },
    "colab": {
     "base_uri": "https://localhost:8080/",
     "height": 340
    },
    "colab_type": "code",
    "executionInfo": {
     "elapsed": 1599,
     "status": "error",
     "timestamp": 1582815038445,
     "user": {
      "displayName": "Kvas",
      "photoUrl": "",
      "userId": "07486278925607026684"
     },
     "user_tz": -180
    },
    "id": "I2TZyrST4-Ua",
    "outputId": "434e2458-7e10-48b5-b5e9-9891d50edf7a"
   },
   "outputs": [
    {
     "name": "stdout",
     "output_type": "stream",
     "text": [
      "0.584\n"
     ]
    }
   ],
   "source": [
    "# y_train = y_train.astype('int')\n",
    "knn.fit(X_train, y_train)\n",
    "prediction = knn.predict(X_valid)\n",
    "\n",
    "print(round(accuracy_score(y_valid, prediction), 3))"
   ]
  },
  {
   "cell_type": "markdown",
   "metadata": {
    "Collapsed": "false",
    "colab_type": "text",
    "id": "OhMDpQbYUVIO"
   },
   "source": [
    "**2. Обучите случайный лес (`RandomForestClassifier`) из 100 деревьев (для воспроизводимости `random_state`=17). Посмотрите на OOB-оценку (для этого надо сразу установить `oob_score`=True) и на долю правильных ответов на выборке `(X_valid, y_valid)`. Для распараллеливания задайте `n_jobs`=-1.**"
   ]
  },
  {
   "cell_type": "code",
   "execution_count": 19,
   "metadata": {
    "Collapsed": "false",
    "ExecuteTime": {
     "end_time": "2020-03-03T12:40:08.642722Z",
     "start_time": "2020-03-03T12:40:08.564723Z"
    },
    "colab": {},
    "colab_type": "code",
    "id": "1qwcTE3eUVIP"
   },
   "outputs": [],
   "source": [
    "from sklearn.ensemble import RandomForestClassifier"
   ]
  },
  {
   "cell_type": "code",
   "execution_count": 20,
   "metadata": {
    "Collapsed": "false",
    "ExecuteTime": {
     "end_time": "2020-03-03T12:40:08.646722Z",
     "start_time": "2020-03-03T12:40:08.643722Z"
    },
    "colab": {},
    "colab_type": "code",
    "id": "X18ODBk5UVIU"
   },
   "outputs": [],
   "source": [
    "forest = RandomForestClassifier(n_estimators=100, random_state=17, oob_score=True, n_jobs=-1)"
   ]
  },
  {
   "cell_type": "markdown",
   "metadata": {
    "Collapsed": "false",
    "colab_type": "text",
    "id": "PxvRpi7tUVIX"
   },
   "source": [
    "**<font color='red'>Вопрос 2. </font> Посчитайте доли правильных ответов для `RandomForestClassifier` при Out-of-Bag оценке и на отложенной выборке. Округлите каждое до 3 знаков после запятой и введите через пробел.**"
   ]
  },
  {
   "cell_type": "code",
   "execution_count": 21,
   "metadata": {
    "Collapsed": "false",
    "ExecuteTime": {
     "end_time": "2020-03-03T12:40:11.341751Z",
     "start_time": "2020-03-03T12:40:08.648722Z"
    }
   },
   "outputs": [
    {
     "name": "stdout",
     "output_type": "stream",
     "text": [
      "0.73\n"
     ]
    }
   ],
   "source": [
    "forest.fit(X_train, y_train)\n",
    "prediction = forest.predict(X_valid)\n",
    "\n",
    "print(round(accuracy_score(y_valid, prediction), 3))"
   ]
  },
  {
   "cell_type": "code",
   "execution_count": 22,
   "metadata": {
    "Collapsed": "false",
    "ExecuteTime": {
     "end_time": "2020-03-03T12:49:03.246228Z",
     "start_time": "2020-03-03T12:48:57.936299Z"
    }
   },
   "outputs": [],
   "source": [
    "oob_score = []\n",
    "for train_index, test_index in skf.split(X_train, y_train):\n",
    "    X_tr = X_train[train_index]\n",
    "    y_tr = y_train[train_index]\n",
    "    X_tst = X_train[test_index]\n",
    "    y_tst = y_train[test_index]\n",
    "\n",
    "    forest.fit(X_tr, y_tr)\n",
    "    # prediction = knn.predict(X_tst)\n",
    "    oob_score.append(forest.oob_score_)"
   ]
  },
  {
   "cell_type": "code",
   "execution_count": 23,
   "metadata": {
    "Collapsed": "false",
    "ExecuteTime": {
     "end_time": "2020-03-03T12:49:04.824581Z",
     "start_time": "2020-03-03T12:49:04.820586Z"
    }
   },
   "outputs": [
    {
     "data": {
      "text/plain": [
       "0.705"
      ]
     },
     "execution_count": 23,
     "metadata": {},
     "output_type": "execute_result"
    }
   ],
   "source": [
    "round(np.array(oob_score).mean(),3)"
   ]
  },
  {
   "cell_type": "code",
   "execution_count": 24,
   "metadata": {
    "Collapsed": "false",
    "ExecuteTime": {
     "end_time": "2020-03-03T12:40:11.448813Z",
     "start_time": "2020-03-03T12:39:57.147Z"
    },
    "colab": {},
    "colab_type": "code",
    "id": "D6DUonQVUVIY"
   },
   "outputs": [],
   "source": [
    "# write_answer_to_file(''' ВАШ КОД ЗДЕСЬ ''',\n",
    "#                      'answer4_2.txt')"
   ]
  },
  {
   "cell_type": "code",
   "execution_count": 25,
   "metadata": {
    "Collapsed": "false",
    "ExecuteTime": {
     "end_time": "2020-03-03T12:40:11.450722Z",
     "start_time": "2020-03-03T12:39:57.150Z"
    },
    "colab": {},
    "colab_type": "code",
    "id": "aDFBnobEUVIa"
   },
   "outputs": [],
   "source": [
    "# !cat answer4_2.txt"
   ]
  },
  {
   "cell_type": "markdown",
   "metadata": {
    "Collapsed": "false",
    "colab_type": "text",
    "id": "k3AUMlFRUVIe"
   },
   "source": [
    "**3. Обучите логистическую регрессию (`LogisticRegression`) с параметром `C` по умолчанию и `random_state`=17 (для воспроизводимости). Посмотрите на долю правильных ответов на кросс-валидации (используйте объект `skf`, созданный ранее) и на выборке `(X_valid, y_valid)`. Для распараллеливания задайте `n_jobs=-1`.**"
   ]
  },
  {
   "cell_type": "code",
   "execution_count": 26,
   "metadata": {
    "Collapsed": "false",
    "ExecuteTime": {
     "end_time": "2020-03-03T12:50:48.182362Z",
     "start_time": "2020-03-03T12:50:48.178351Z"
    },
    "colab": {},
    "colab_type": "code",
    "id": "-Z2Se3PUUVIf"
   },
   "outputs": [],
   "source": [
    "from sklearn.linear_model import LogisticRegression, LogisticRegressionCV"
   ]
  },
  {
   "cell_type": "code",
   "execution_count": 27,
   "metadata": {
    "Collapsed": "false",
    "ExecuteTime": {
     "end_time": "2020-03-03T12:50:58.740643Z",
     "start_time": "2020-03-03T12:50:58.737616Z"
    },
    "colab": {},
    "colab_type": "code",
    "id": "b_gNFVeRUVIj"
   },
   "outputs": [],
   "source": [
    "logit = LogisticRegression(random_state=17, n_jobs=-1)"
   ]
  },
  {
   "cell_type": "code",
   "execution_count": 28,
   "metadata": {
    "Collapsed": "false",
    "ExecuteTime": {
     "end_time": "2020-03-03T12:51:14.443685Z",
     "start_time": "2020-03-03T12:51:13.488695Z"
    }
   },
   "outputs": [],
   "source": [
    "cv_score = []\n",
    "for train_index, test_index in skf.split(X_train, y_train):\n",
    "    X_tr = X_train[train_index]\n",
    "    y_tr = y_train[train_index]\n",
    "    X_tst = X_train[test_index]\n",
    "    y_tst = y_train[test_index]\n",
    "\n",
    "    logit.fit(X_tr, y_tr)\n",
    "    # prediction = knn.predict(X_tst)\n",
    "    cv_score.append( accuracy_score(y_tst, logit.predict(X_tst)) )"
   ]
  },
  {
   "cell_type": "code",
   "execution_count": 29,
   "metadata": {
    "Collapsed": "false",
    "ExecuteTime": {
     "end_time": "2020-03-03T12:51:45.139942Z",
     "start_time": "2020-03-03T12:51:45.134942Z"
    }
   },
   "outputs": [
    {
     "data": {
      "text/plain": [
       "0.763"
      ]
     },
     "execution_count": 29,
     "metadata": {},
     "output_type": "execute_result"
    }
   ],
   "source": [
    "round(np.array(cv_score).mean(), 3)"
   ]
  },
  {
   "cell_type": "code",
   "execution_count": 30,
   "metadata": {
    "Collapsed": "false",
    "ExecuteTime": {
     "end_time": "2020-03-03T12:51:46.099539Z",
     "start_time": "2020-03-03T12:51:45.574544Z"
    }
   },
   "outputs": [
    {
     "name": "stdout",
     "output_type": "stream",
     "text": [
      "0.782\n"
     ]
    }
   ],
   "source": [
    "logit.fit(X_train, y_train)\n",
    "prediction = logit.predict(X_valid)\n",
    "\n",
    "print(round(accuracy_score(y_valid, prediction), 3))"
   ]
  },
  {
   "cell_type": "markdown",
   "metadata": {
    "Collapsed": "false"
   },
   "source": [
    "## LogisticRegressionCV"
   ]
  },
  {
   "cell_type": "markdown",
   "metadata": {
    "Collapsed": "false",
    "colab_type": "text",
    "id": "gYLWOiqlUVIm"
   },
   "source": [
    "**Почитайте документацию к [LogisticRegressionCV](http://scikit-learn.org/stable/modules/generated/sklearn.linear_model.LogisticRegressionCV.html). Логистическая регрессия хорошо изучена, и для нее существуют алгоритмы быстрого подбора параметра регуляризации `C` (быстрее, чем с `GridSearchCV`).**\n",
    "\n",
    "**С помощью `LogisticRegressionCV` подберите параметр `C` для `LogisticRegression` сначала в широком диапазоне: 10 значений от 1e-4 до 1e2, используйте `logspace` из `NumPy`. Укажите у `LogisticRegressionCV` параметры `multi_class`='multinomial' и `random_state`=17. Для кросс-валидации используйте объект `skf`, созданный ранее. Для распараллеливания задайте `n_jobs=-1`.**\n",
    "\n",
    "**Нарисуйте кривые валидации по параметру `C`.**"
   ]
  },
  {
   "cell_type": "code",
   "execution_count": 31,
   "metadata": {
    "Collapsed": "false",
    "ExecuteTime": {
     "end_time": "2020-03-03T13:02:45.289793Z",
     "start_time": "2020-03-03T13:02:36.205794Z"
    },
    "colab": {},
    "colab_type": "code",
    "id": "aBM5LdIgUVIm"
   },
   "outputs": [
    {
     "name": "stdout",
     "output_type": "stream",
     "text": [
      "Wall time: 11 s\n"
     ]
    }
   ],
   "source": [
    "%%time\n",
    "logit_c_values1 = np.logspace(-4, 2, 10)\n",
    "\n",
    "logit_grid_searcher1 = LogisticRegressionCV(Cs=logit_c_values1, cv=skf, multi_class='multinomial', random_state=17, n_jobs=-1)\n",
    "logit_grid_searcher1.fit(X_train, y_train)"
   ]
  },
  {
   "cell_type": "markdown",
   "metadata": {
    "Collapsed": "false",
    "colab_type": "text",
    "id": "dMSYRTrwUVIp"
   },
   "source": [
    "Средние значения доли правильных ответов на кросс-валидации по каждому из 10 параметров `C`."
   ]
  },
  {
   "cell_type": "code",
   "execution_count": 32,
   "metadata": {
    "Collapsed": "false",
    "ExecuteTime": {
     "end_time": "2020-03-03T13:33:19.007207Z",
     "start_time": "2020-03-03T13:33:19.004240Z"
    },
    "colab": {},
    "colab_type": "code",
    "id": "4TR-5X_zUVIq"
   },
   "outputs": [],
   "source": [
    "logit_mean_cv_scores1 = np.max(logit_grid_searcher1.scores_[31], axis=0) "
   ]
  },
  {
   "cell_type": "code",
   "execution_count": 33,
   "metadata": {
    "Collapsed": "false",
    "ExecuteTime": {
     "end_time": "2020-03-03T13:33:20.632429Z",
     "start_time": "2020-03-03T13:33:20.628397Z"
    }
   },
   "outputs": [
    {
     "name": "stdout",
     "output_type": "stream",
     "text": [
      "[0.32724505 0.47925564 0.55643685 0.65812748 0.71759683 0.75472849\n",
      " 0.76388041 0.76540574 0.75625381 0.75167785]\n"
     ]
    }
   ],
   "source": [
    "print(logit_mean_cv_scores1)"
   ]
  },
  {
   "cell_type": "markdown",
   "metadata": {
    "Collapsed": "false",
    "colab_type": "text",
    "id": "C1hzuT8zUVIt"
   },
   "source": [
    "Выведите лучшее значение доли правильных ответов на кросс-валидации и соответствующее значение `C`."
   ]
  },
  {
   "cell_type": "code",
   "execution_count": 34,
   "metadata": {
    "Collapsed": "false",
    "ExecuteTime": {
     "end_time": "2020-03-03T13:39:10.333524Z",
     "start_time": "2020-03-03T13:39:10.329501Z"
    },
    "colab": {},
    "colab_type": "code",
    "id": "8FONcGFSUVIu"
   },
   "outputs": [
    {
     "data": {
      "text/plain": [
       "0.7654057352043929"
      ]
     },
     "execution_count": 34,
     "metadata": {},
     "output_type": "execute_result"
    }
   ],
   "source": [
    "logit_grid_searcher1.scores_[31].max()"
   ]
  },
  {
   "cell_type": "code",
   "execution_count": 35,
   "metadata": {
    "Collapsed": "false",
    "ExecuteTime": {
     "end_time": "2020-03-03T13:30:48.372282Z",
     "start_time": "2020-03-03T13:30:48.367282Z"
    }
   },
   "outputs": [
    {
     "data": {
      "text/plain": [
       "4.641588833612772"
      ]
     },
     "execution_count": 35,
     "metadata": {},
     "output_type": "execute_result"
    }
   ],
   "source": [
    "#logit_grid_searcher1.scores_[31]\n",
    "\n",
    "best_c_index = np.argmax(logit_grid_searcher1.scores_[31], axis=1)[0]\n",
    "logit_c_values1[best_c_index]"
   ]
  },
  {
   "cell_type": "markdown",
   "metadata": {
    "Collapsed": "false",
    "colab_type": "text",
    "id": "j2xi_pT1UVIx"
   },
   "source": [
    "Нарисуйте график зависимости доли правильных ответов на кросс-валидации от `C`."
   ]
  },
  {
   "cell_type": "code",
   "execution_count": 36,
   "metadata": {
    "Collapsed": "false",
    "ExecuteTime": {
     "end_time": "2020-03-03T13:31:55.583638Z",
     "start_time": "2020-03-03T13:31:55.579675Z"
    }
   },
   "outputs": [
    {
     "data": {
      "text/plain": [
       "array([0.32724505, 0.47925564, 0.55643685, 0.65812748, 0.71759683,\n",
       "       0.75472849, 0.76388041, 0.76540574, 0.75625381, 0.75167785])"
      ]
     },
     "execution_count": 36,
     "metadata": {},
     "output_type": "execute_result"
    }
   ],
   "source": [
    "logit_mean_cv_scores1"
   ]
  },
  {
   "cell_type": "code",
   "execution_count": 37,
   "metadata": {
    "Collapsed": "false",
    "ExecuteTime": {
     "end_time": "2020-03-03T13:34:23.339515Z",
     "start_time": "2020-03-03T13:34:23.236487Z"
    },
    "colab": {},
    "colab_type": "code",
    "id": "nu5QQoOkUVI0"
   },
   "outputs": [
    {
     "data": {
      "image/png": "[encoded data removed]",
      "text/plain": [
       "<Figure size 432x288 with 1 Axes>"
      ]
     },
     "metadata": {
      "needs_background": "light"
     },
     "output_type": "display_data"
    }
   ],
   "source": [
    "plt.plot(logit_c_values1, logit_mean_cv_scores1);"
   ]
  },
  {
   "cell_type": "code",
   "execution_count": null,
   "metadata": {
    "Collapsed": "false"
   },
   "outputs": [],
   "source": []
  },
  {
   "cell_type": "markdown",
   "metadata": {
    "Collapsed": "false",
    "colab_type": "text",
    "id": "dLaMG0vqUVI4"
   },
   "source": [
    "**Теперь то же самое, только значения параметра `C` перебирайте в диапазоне `np.linspace`(0.1, 7, 20). Опять нарисуйте кривые валидации, определите максимальное значение доли правильных ответов на кросс-валидации.**"
   ]
  },
  {
   "cell_type": "code",
   "execution_count": 38,
   "metadata": {
    "Collapsed": "false",
    "ExecuteTime": {
     "end_time": "2020-03-03T13:41:52.661879Z",
     "start_time": "2020-03-03T13:41:31.465881Z"
    },
    "colab": {},
    "colab_type": "code",
    "id": "ajXTbYWMUVI5"
   },
   "outputs": [
    {
     "name": "stdout",
     "output_type": "stream",
     "text": [
      "Wall time: 26.2 s\n"
     ]
    }
   ],
   "source": [
    "%%time\n",
    "logit_c_values2 = np.linspace(0.1, 7, 20)\n",
    "\n",
    "logit_grid_searcher2 = LogisticRegressionCV(Cs=logit_c_values2, cv=skf, multi_class='multinomial', random_state=17, n_jobs=-1)\n",
    "logit_grid_searcher2.fit(X_train, y_train)"
   ]
  },
  {
   "cell_type": "markdown",
   "metadata": {
    "Collapsed": "false",
    "colab_type": "text",
    "id": "lebj4DPEUVI9"
   },
   "source": [
    "Средние значения доли правильных ответов на кросс-валидации по каждому из 10 параметров `C`."
   ]
  },
  {
   "cell_type": "code",
   "execution_count": 39,
   "metadata": {
    "Collapsed": "false",
    "ExecuteTime": {
     "end_time": "2020-03-03T13:41:53.088880Z",
     "start_time": "2020-03-03T13:41:53.084880Z"
    },
    "colab": {},
    "colab_type": "code",
    "id": "M1_ww0v2UVI-",
    "scrolled": true
   },
   "outputs": [
    {
     "name": "stdout",
     "output_type": "stream",
     "text": [
      "[0.73703478 0.76327029 0.76296522 0.76418548 0.76540574 0.76499239\n",
      " 0.76468798 0.76377473 0.76468798 0.76418548 0.76499239 0.76377473\n",
      " 0.76407915 0.76347032 0.76316591 0.76174497 0.76174497 0.76120769\n",
      " 0.76090271 0.76059774]\n"
     ]
    }
   ],
   "source": [
    "logit_mean_cv_scores2 = np.max(logit_grid_searcher2.scores_[31], axis=0) \n",
    "print(logit_mean_cv_scores2)"
   ]
  },
  {
   "cell_type": "markdown",
   "metadata": {
    "Collapsed": "false",
    "colab_type": "text",
    "id": "wYe8DB0CUVJC"
   },
   "source": [
    "Выведите лучшее значение доли правильных ответов на кросс-валидации и соответствующее значение `C`."
   ]
  },
  {
   "cell_type": "code",
   "execution_count": 40,
   "metadata": {
    "Collapsed": "false",
    "ExecuteTime": {
     "end_time": "2020-03-03T13:41:53.484888Z",
     "start_time": "2020-03-03T13:41:53.480880Z"
    }
   },
   "outputs": [
    {
     "data": {
      "text/plain": [
       "0.7654057352043929"
      ]
     },
     "execution_count": 40,
     "metadata": {},
     "output_type": "execute_result"
    }
   ],
   "source": [
    "logit_grid_searcher2.scores_[31].max()"
   ]
  },
  {
   "cell_type": "code",
   "execution_count": 41,
   "metadata": {
    "Collapsed": "false",
    "ExecuteTime": {
     "end_time": "2020-03-03T13:41:53.879883Z",
     "start_time": "2020-03-03T13:41:53.875879Z"
    },
    "colab": {},
    "colab_type": "code",
    "id": "D-4G0y4CUVJD"
   },
   "outputs": [
    {
     "data": {
      "text/plain": [
       "1.9157894736842107"
      ]
     },
     "execution_count": 41,
     "metadata": {},
     "output_type": "execute_result"
    }
   ],
   "source": [
    "best_c_index2 = np.argmax(logit_grid_searcher2.scores_[31], axis=1)[0]\n",
    "logit_c_values2[best_c_index2]"
   ]
  },
  {
   "cell_type": "markdown",
   "metadata": {
    "Collapsed": "false",
    "colab_type": "text",
    "id": "gKx8UG3rUVJP"
   },
   "source": [
    "Нарисуйте график зависимости доли правильных ответов на кросс-валидации от `C`."
   ]
  },
  {
   "cell_type": "code",
   "execution_count": 42,
   "metadata": {
    "Collapsed": "false",
    "ExecuteTime": {
     "end_time": "2020-03-03T13:41:54.401887Z",
     "start_time": "2020-03-03T13:41:54.284890Z"
    },
    "colab": {},
    "colab_type": "code",
    "id": "xrCMIjvvUVJQ",
    "scrolled": true
   },
   "outputs": [
    {
     "data": {
      "image/png": "[encoded data removed]",
      "text/plain": [
       "<Figure size 432x288 with 1 Axes>"
      ]
     },
     "metadata": {
      "needs_background": "light"
     },
     "output_type": "display_data"
    }
   ],
   "source": [
    "plt.plot(logit_c_values2, logit_mean_cv_scores2);"
   ]
  },
  {
   "cell_type": "code",
   "execution_count": 43,
   "metadata": {
    "Collapsed": "false",
    "ExecuteTime": {
     "end_time": "2020-03-03T13:42:41.958329Z",
     "start_time": "2020-03-03T13:42:41.954296Z"
    }
   },
   "outputs": [
    {
     "data": {
      "text/plain": [
       "True"
      ]
     },
     "execution_count": 43,
     "metadata": {},
     "output_type": "execute_result"
    }
   ],
   "source": [
    "logit_c_values1[best_c_index] > logit_c_values2[best_c_index2]"
   ]
  },
  {
   "cell_type": "markdown",
   "metadata": {
    "Collapsed": "false",
    "colab_type": "text",
    "id": "trQ9ua9oUVJU"
   },
   "source": [
    "Выведите долю правильных ответов на выборке `(X_valid, y_valid)` для логистической регрессии с лучшим найденным значением `C`."
   ]
  },
  {
   "cell_type": "code",
   "execution_count": 44,
   "metadata": {
    "Collapsed": "false",
    "ExecuteTime": {
     "end_time": "2020-03-03T13:48:02.541477Z",
     "start_time": "2020-03-03T13:48:02.536473Z"
    },
    "colab": {},
    "colab_type": "code",
    "id": "zNgbVVA4UVJW"
   },
   "outputs": [],
   "source": [
    "logit_cv_acc = accuracy_score(y_valid, logit_grid_searcher1.predict(X_valid))"
   ]
  },
  {
   "cell_type": "code",
   "execution_count": 45,
   "metadata": {
    "Collapsed": "false",
    "ExecuteTime": {
     "end_time": "2020-03-03T13:48:08.684014Z",
     "start_time": "2020-03-03T13:48:08.680014Z"
    }
   },
   "outputs": [
    {
     "data": {
      "text/plain": [
       "0.7788575491822707"
      ]
     },
     "execution_count": 45,
     "metadata": {},
     "output_type": "execute_result"
    }
   ],
   "source": [
    "logit_cv_acc"
   ]
  },
  {
   "cell_type": "markdown",
   "metadata": {
    "Collapsed": "false",
    "colab_type": "text",
    "id": "6u_03SReUVJZ"
   },
   "source": [
    "**<font color='red'>Вопрос 3. </font>Посчитайте доли правильных ответов для `logit_grid_searcher2` на кросс-валидации для лучшего значения параметра `C` и на отложенной выборке. Округлите каждое до 3 знаков после запятой и выведите через пробел.**"
   ]
  },
  {
   "cell_type": "code",
   "execution_count": 46,
   "metadata": {
    "Collapsed": "false",
    "ExecuteTime": {
     "end_time": "2020-03-03T14:09:42.884995Z",
     "start_time": "2020-03-03T14:09:42.869950Z"
    },
    "colab": {},
    "colab_type": "code",
    "id": "4gjqt4-oUVJa"
   },
   "outputs": [
    {
     "name": "stdout",
     "output_type": "stream",
     "text": [
      "0.885\n"
     ]
    }
   ],
   "source": [
    "cv_score = []\n",
    "for train_index, test_index in skf.split(X_train, y_train):\n",
    "    X_tr = X_train[train_index]\n",
    "    y_tr = y_train[train_index]\n",
    "    X_tst = X_train[test_index]\n",
    "    y_tst = y_train[test_index]\n",
    "\n",
    "    #logit_grid_searcher2.fit(X_tr, y_tr)\n",
    "    # prediction = knn.predict(X_tst)\n",
    "    cv_score.append( accuracy_score(y_tst, logit_grid_searcher2.predict(X_tst)) )\n",
    "    \n",
    "print(round(np.array(cv_score).mean(), 3))"
   ]
  },
  {
   "cell_type": "code",
   "execution_count": 47,
   "metadata": {
    "Collapsed": "false",
    "ExecuteTime": {
     "end_time": "2020-03-03T14:10:30.448005Z",
     "start_time": "2020-03-03T14:10:30.441994Z"
    }
   },
   "outputs": [
    {
     "data": {
      "text/plain": [
       "0.779"
      ]
     },
     "execution_count": 47,
     "metadata": {},
     "output_type": "execute_result"
    }
   ],
   "source": [
    "round(accuracy_score(y_valid, logit_grid_searcher2.predict(X_valid)), 3)"
   ]
  },
  {
   "cell_type": "markdown",
   "metadata": {
    "Collapsed": "false",
    "colab_type": "text",
    "id": "z1aXq-pAUVJd"
   },
   "source": [
    "**4. Обучите линейный SVM (`LinearSVC`) с параметром `C`=1 и `random_state`=17 (для воспроизводимости). Посмотрите на долю правильных ответов на кросс-валидации (используйте объект `skf`, созданный ранее) и на выборке `(X_valid, y_valid)`.**"
   ]
  },
  {
   "cell_type": "code",
   "execution_count": 48,
   "metadata": {
    "Collapsed": "false",
    "ExecuteTime": {
     "end_time": "2020-03-03T14:15:22.786997Z",
     "start_time": "2020-03-03T14:15:22.783963Z"
    },
    "colab": {},
    "colab_type": "code",
    "id": "ravaXUENUVJd"
   },
   "outputs": [],
   "source": [
    "from sklearn.svm import LinearSVC"
   ]
  },
  {
   "cell_type": "code",
   "execution_count": 49,
   "metadata": {
    "Collapsed": "false",
    "ExecuteTime": {
     "end_time": "2020-03-03T14:16:12.844081Z",
     "start_time": "2020-03-03T14:16:12.841086Z"
    },
    "colab": {},
    "colab_type": "code",
    "id": "CEs6e0YLUVJg"
   },
   "outputs": [],
   "source": [
    "svm = LinearSVC(C=1., random_state=17)"
   ]
  },
  {
   "cell_type": "code",
   "execution_count": 50,
   "metadata": {
    "Collapsed": "false",
    "ExecuteTime": {
     "end_time": "2020-03-03T14:16:37.085266Z",
     "start_time": "2020-03-03T14:16:33.281269Z"
    },
    "colab": {},
    "colab_type": "code",
    "id": "4gjqt4-oUVJa"
   },
   "outputs": [
    {
     "name": "stdout",
     "output_type": "stream",
     "text": [
      "0.757\n"
     ]
    }
   ],
   "source": [
    "cv_score = []\n",
    "for train_index, test_index in skf.split(X_train, y_train):\n",
    "    X_tr = X_train[train_index]\n",
    "    y_tr = y_train[train_index]\n",
    "    X_tst = X_train[test_index]\n",
    "    y_tst = y_train[test_index]\n",
    "\n",
    "    svm.fit(X_tr, y_tr)\n",
    "    # prediction = knn.predict(X_tst)\n",
    "    cv_score.append( accuracy_score(y_tst, svm.predict(X_tst)) )\n",
    "    \n",
    "print(round(np.array(cv_score).mean(), 3))"
   ]
  },
  {
   "cell_type": "code",
   "execution_count": 51,
   "metadata": {
    "Collapsed": "false",
    "ExecuteTime": {
     "end_time": "2020-03-03T14:16:37.494264Z",
     "start_time": "2020-03-03T14:16:37.489298Z"
    }
   },
   "outputs": [
    {
     "data": {
      "text/plain": [
       "0.757"
      ]
     },
     "execution_count": 51,
     "metadata": {},
     "output_type": "execute_result"
    }
   ],
   "source": [
    "round(accuracy_score(y_valid, svm.predict(X_valid)), 3)"
   ]
  },
  {
   "cell_type": "code",
   "execution_count": null,
   "metadata": {
    "Collapsed": "false"
   },
   "outputs": [],
   "source": []
  },
  {
   "cell_type": "markdown",
   "metadata": {
    "Collapsed": "false",
    "colab_type": "text",
    "id": "sAaGyXMbUVJi"
   },
   "source": [
    "**С помощью `GridSearchCV` подберите параметр `C` для SVM сначала в широком диапазоне: 10 значений от 1e-4 до 1e4, используйте `linspace` из NumPy. Нарисуйте кривые валидации.**"
   ]
  },
  {
   "cell_type": "code",
   "execution_count": 52,
   "metadata": {
    "Collapsed": "false",
    "ExecuteTime": {
     "end_time": "2020-03-03T14:35:28.986933Z",
     "start_time": "2020-03-03T14:35:12.987917Z"
    },
    "colab": {},
    "colab_type": "code",
    "id": "POXnNM3aUVJj"
   },
   "outputs": [
    {
     "name": "stdout",
     "output_type": "stream",
     "text": [
      "Wall time: 19.2 s\n"
     ]
    }
   ],
   "source": [
    "%%time\n",
    "svm_params1 = {'C': np.linspace(1e-4, 1e4, 10)}\n",
    "\n",
    "svm_grid_searcher1 = GridSearchCV(LinearSVC(random_state=17), param_grid=svm_params1, n_jobs=-1, cv=skf, return_train_score=True)\n",
    "svm_grid_searcher1.fit(X_train, y_train)"
   ]
  },
  {
   "cell_type": "markdown",
   "metadata": {
    "Collapsed": "false",
    "colab_type": "text",
    "id": "ZG0zrLRGUVJr"
   },
   "source": [
    "Выведите лучшее значение доли правильных ответов на кросс-валидации и соответствующее значение `C`."
   ]
  },
  {
   "cell_type": "code",
   "execution_count": 53,
   "metadata": {
    "Collapsed": "false",
    "ExecuteTime": {
     "end_time": "2020-03-03T14:35:31.262664Z",
     "start_time": "2020-03-03T14:35:31.258661Z"
    },
    "colab": {},
    "colab_type": "code",
    "id": "xySmWBT0UVJr"
   },
   "outputs": [
    {
     "data": {
      "text/plain": [
       "0.6890875838244259"
      ]
     },
     "execution_count": 53,
     "metadata": {},
     "output_type": "execute_result"
    }
   ],
   "source": [
    "svm_grid_searcher1.best_score_"
   ]
  },
  {
   "cell_type": "code",
   "execution_count": 54,
   "metadata": {
    "Collapsed": "false",
    "ExecuteTime": {
     "end_time": "2020-03-03T14:35:33.614371Z",
     "start_time": "2020-03-03T14:35:33.610374Z"
    },
    "scrolled": true
   },
   "outputs": [
    {
     "data": {
      "text/plain": [
       "LinearSVC(C=1111.1112, class_weight=None, dual=True, fit_intercept=True,\n",
       "          intercept_scaling=1, loss='squared_hinge', max_iter=1000,\n",
       "          multi_class='ovr', penalty='l2', random_state=17, tol=0.0001,\n",
       "          verbose=0)"
      ]
     },
     "execution_count": 54,
     "metadata": {},
     "output_type": "execute_result"
    }
   ],
   "source": [
    "svm_grid_searcher1.best_estimator_"
   ]
  },
  {
   "cell_type": "markdown",
   "metadata": {
    "Collapsed": "false",
    "colab_type": "text",
    "id": "aKKQK8ZDUVJw"
   },
   "source": [
    "Нарисуйте график зависимости доли правильных ответов на кросс-валидации от `C`."
   ]
  },
  {
   "cell_type": "code",
   "execution_count": 55,
   "metadata": {
    "Collapsed": "false",
    "ExecuteTime": {
     "end_time": "2020-03-03T14:35:47.069190Z",
     "start_time": "2020-03-03T14:35:46.923222Z"
    },
    "colab": {},
    "colab_type": "code",
    "id": "zglG-ykRUVJx"
   },
   "outputs": [
    {
     "data": {
      "image/png": "[encoded data removed]",
      "text/plain": [
       "<Figure size 432x288 with 1 Axes>"
      ]
     },
     "metadata": {
      "needs_background": "light"
     },
     "output_type": "display_data"
    }
   ],
   "source": [
    "plot_validation_curves(svm_params1['C'], svm_grid_searcher1.cv_results_)"
   ]
  },
  {
   "cell_type": "markdown",
   "metadata": {
    "Collapsed": "false",
    "colab_type": "text",
    "id": "bZi9KMHNUVJ0"
   },
   "source": [
    "**Но мы помним, что с параметром регуляризации по умолчанию (С=1) на кросс-валидации доля правильных ответов выше. Это тот случай (не редкий), когда можно ошибиться и перебирать параметры не в том диапазоне (причина в том, что мы взяли равномерную сетку на большом интервале и упустили действительно хороший интервал значений `C`). Здесь намного осмысленней подбирать `C` в районе 1, к тому же, так модель быстрее обучается, чем при больших `C`. **\n",
    "\n",
    "**С помощью `GridSearchCV` подберите параметр `C` для SVM в диапазоне (1e-3, 1), 30 значений, используйте `linspace` из NumPy. Нарисуйте кривые валидации.**"
   ]
  },
  {
   "cell_type": "code",
   "execution_count": 56,
   "metadata": {
    "Collapsed": "false",
    "ExecuteTime": {
     "end_time": "2020-03-03T14:38:21.454649Z",
     "start_time": "2020-03-03T14:37:58.607617Z"
    },
    "colab": {},
    "colab_type": "code",
    "id": "79SPSf6mUVJ1"
   },
   "outputs": [
    {
     "name": "stdout",
     "output_type": "stream",
     "text": [
      "Wall time: 28.1 s\n"
     ]
    }
   ],
   "source": [
    "%%time\n",
    "svm_params2 = {'C': np.linspace(1e-3, 1, 30)}\n",
    "\n",
    "svm_grid_searcher2 = GridSearchCV(LinearSVC(random_state=17), param_grid=svm_params2, n_jobs=-1, cv=skf, return_train_score=True)\n",
    "svm_grid_searcher2.fit(X_train, y_train)"
   ]
  },
  {
   "cell_type": "markdown",
   "metadata": {
    "Collapsed": "false",
    "colab_type": "text",
    "id": "_8QRlbJFUVJ5"
   },
   "source": [
    "Выведите лучшее значение доли правильных ответов на кросс-валидации и соответствующее значение `C`."
   ]
  },
  {
   "cell_type": "code",
   "execution_count": 57,
   "metadata": {
    "Collapsed": "false",
    "ExecuteTime": {
     "end_time": "2020-03-03T14:39:35.932025Z",
     "start_time": "2020-03-03T14:39:35.928054Z"
    },
    "colab": {},
    "colab_type": "code",
    "id": "xySmWBT0UVJr"
   },
   "outputs": [
    {
     "data": {
      "text/plain": [
       "0.7649867913025807"
      ]
     },
     "execution_count": 57,
     "metadata": {},
     "output_type": "execute_result"
    }
   ],
   "source": [
    "svm_grid_searcher2.best_score_"
   ]
  },
  {
   "cell_type": "code",
   "execution_count": 58,
   "metadata": {
    "Collapsed": "false",
    "ExecuteTime": {
     "end_time": "2020-03-03T14:39:38.074422Z",
     "start_time": "2020-03-03T14:39:38.070392Z"
    },
    "scrolled": true
   },
   "outputs": [
    {
     "data": {
      "text/plain": [
       "LinearSVC(C=0.24213793103448275, class_weight=None, dual=True,\n",
       "          fit_intercept=True, intercept_scaling=1, loss='squared_hinge',\n",
       "          max_iter=1000, multi_class='ovr', penalty='l2', random_state=17,\n",
       "          tol=0.0001, verbose=0)"
      ]
     },
     "execution_count": 58,
     "metadata": {},
     "output_type": "execute_result"
    }
   ],
   "source": [
    "svm_grid_searcher2.best_estimator_"
   ]
  },
  {
   "cell_type": "markdown",
   "metadata": {
    "Collapsed": "false",
    "colab_type": "text",
    "id": "NrUMNPIGUVJ9"
   },
   "source": [
    "Нарисуйте график зависимости доли правильных ответов на кросс-валидации от С."
   ]
  },
  {
   "cell_type": "code",
   "execution_count": 59,
   "metadata": {
    "Collapsed": "false",
    "ExecuteTime": {
     "end_time": "2020-03-03T14:39:51.554422Z",
     "start_time": "2020-03-03T14:39:51.421408Z"
    },
    "colab": {},
    "colab_type": "code",
    "id": "-MvX6eNQUVJ-",
    "scrolled": true
   },
   "outputs": [
    {
     "data": {
      "image/png": "[encoded data removed]",
      "text/plain": [
       "<Figure size 432x288 with 1 Axes>"
      ]
     },
     "metadata": {
      "needs_background": "light"
     },
     "output_type": "display_data"
    }
   ],
   "source": [
    "plot_validation_curves(svm_params2['C'], svm_grid_searcher2.cv_results_)"
   ]
  },
  {
   "cell_type": "markdown",
   "metadata": {
    "Collapsed": "false",
    "colab_type": "text",
    "id": "-l5IiaRVUVKA"
   },
   "source": [
    "Выведите долю правильных ответов на выборке `(X_valid, y_valid)` для `LinearSVC` с лучшим найденным значением `C`."
   ]
  },
  {
   "cell_type": "code",
   "execution_count": 60,
   "metadata": {
    "Collapsed": "false",
    "ExecuteTime": {
     "end_time": "2020-03-03T14:40:38.740018Z",
     "start_time": "2020-03-03T14:40:38.733927Z"
    }
   },
   "outputs": [
    {
     "data": {
      "text/plain": [
       "array([ 33, 128,  39, ..., 207,  39, 237], dtype=int64)"
      ]
     },
     "execution_count": 60,
     "metadata": {},
     "output_type": "execute_result"
    }
   ],
   "source": [
    "svm_grid_searcher2.best_estimator_.predict(X_valid)"
   ]
  },
  {
   "cell_type": "code",
   "execution_count": 61,
   "metadata": {
    "Collapsed": "false",
    "ExecuteTime": {
     "end_time": "2020-03-03T14:41:15.770567Z",
     "start_time": "2020-03-03T14:41:15.765566Z"
    },
    "colab": {},
    "colab_type": "code",
    "id": "GWv36_DgUVKB"
   },
   "outputs": [
    {
     "name": "stdout",
     "output_type": "stream",
     "text": [
      "0.784\n"
     ]
    }
   ],
   "source": [
    "svm_cv_acc = accuracy_score(y_valid, svm_grid_searcher2.best_estimator_.predict(X_valid))\n",
    "print(round(svm_cv_acc,3))"
   ]
  },
  {
   "cell_type": "markdown",
   "metadata": {
    "Collapsed": "false",
    "colab_type": "text",
    "id": "kOSf_cf2UVKD"
   },
   "source": [
    "**<font color='red'>Вопрос 4. </font> Посчитайте доли правильных ответов для `svm_grid_searcher2` на кросс-валидации для лучшего значения параметра `C` и на отложенной выборке. Округлите каждое до 3 знаков после запятой и выведите через пробел.**"
   ]
  },
  {
   "cell_type": "code",
   "execution_count": 62,
   "metadata": {
    "Collapsed": "false",
    "ExecuteTime": {
     "end_time": "2020-03-03T18:40:35.037698Z",
     "start_time": "2020-03-03T18:40:32.683684Z"
    },
    "colab": {},
    "colab_type": "code",
    "id": "DntepDBzUVKE"
   },
   "outputs": [
    {
     "name": "stdout",
     "output_type": "stream",
     "text": [
      "0.765\n"
     ]
    }
   ],
   "source": [
    "cv_score = []\n",
    "for train_index, test_index in skf.split(X_train, y_train):\n",
    "    X_tr = X_train[train_index]\n",
    "    y_tr = y_train[train_index]\n",
    "    X_tst = X_train[test_index]\n",
    "    y_tst = y_train[test_index]\n",
    "\n",
    "    svm_grid_searcher2.best_estimator_.fit(X_tr, y_tr)\n",
    "    # prediction = knn.predict(X_tst)\n",
    "        \n",
    "    cv_score.append( accuracy_score(y_tst, svm_grid_searcher2.best_estimator_.predict(X_tst)) )\n",
    "    # cv_score.append(svm_grid_searcher2.best_estimator_.score(X_tst, y_tst))\n",
    "    \n",
    "print(round(np.array(cv_score).mean(), 3))"
   ]
  },
  {
   "cell_type": "code",
   "execution_count": 63,
   "metadata": {
    "Collapsed": "false",
    "ExecuteTime": {
     "end_time": "2020-03-03T18:41:38.043650Z",
     "start_time": "2020-03-03T18:41:36.803649Z"
    }
   },
   "outputs": [
    {
     "data": {
      "text/plain": [
       "0.784"
      ]
     },
     "execution_count": 63,
     "metadata": {},
     "output_type": "execute_result"
    }
   ],
   "source": [
    "svm_grid_searcher2.best_estimator_.fit(X_train, y_train)\n",
    "\n",
    "round(accuracy_score(y_valid, svm_grid_searcher2.best_estimator_.predict(X_valid)), 3)"
   ]
  },
  {
   "cell_type": "code",
   "execution_count": null,
   "metadata": {
    "Collapsed": "false"
   },
   "outputs": [],
   "source": []
  },
  {
   "cell_type": "markdown",
   "metadata": {
    "Collapsed": "false",
    "colab_type": "text",
    "id": "dl_xGonxUVKK"
   },
   "source": [
    "## Часть 2. Выбор параметров – длины сессии и ширины окна"
   ]
  },
  {
   "cell_type": "markdown",
   "metadata": {
    "Collapsed": "false",
    "colab_type": "text",
    "id": "-iRNzasjUVKL"
   },
   "source": [
    "**Возьмем `LinearSVC`, показавший лучшее качество на кросс-валидации в 1 части, и проверим его работу еще на 8 выборках для 10 пользователей (с разными сочетаниями параметров *session_length* и *window_size*). Поскольку тут уже вычислений побольше, мы не будем каждый раз заново подбирать параметр регуляризации `C`.**\n",
    "\n",
    "**Определите функцию `model_assessment`, ее документация описана ниже. Обратите внимание на все детали. Например, на то, что разбиение  выборки с `train_test_split` должно быть стратифицированным. Не теряйте нигде `random_state`.**"
   ]
  },
  {
   "cell_type": "code",
   "execution_count": 64,
   "metadata": {
    "Collapsed": "false",
    "ExecuteTime": {
     "end_time": "2020-03-03T20:55:18.571495Z",
     "start_time": "2020-03-03T20:55:18.564496Z"
    },
    "colab": {},
    "colab_type": "code",
    "id": "ky4M1dWOUVKM"
   },
   "outputs": [],
   "source": [
    "def model_assessment(estimator, path_to_X_pickle, path_to_y_pickle, cv, random_state=17, test_size=0.3):\n",
    "    '''\n",
    "    Estimates CV-accuracy for (1 - test_size) share of (X_sparse, y) \n",
    "    loaded from path_to_X_pickle and path_to_y_pickle and holdout accuracy for (test_size) share of (X_sparse, y).\n",
    "    The split is made with stratified train_test_split with params random_state and test_size.\n",
    "    \n",
    "    :param estimator – Scikit-learn estimator (classifier or regressor)\n",
    "    :param path_to_X_pickle – path to pickled sparse X (instances and their features)\n",
    "    :param path_to_y_pickle – path to pickled y (responses)\n",
    "    :param cv – cross-validation as in cross_val_score (use StratifiedKFold here)\n",
    "    :param random_state –  for train_test_split\n",
    "    :param test_size –  for train_test_split\n",
    "    \n",
    "    :returns mean CV-accuracy for (X_train, y_train) and accuracy for (X_valid, y_valid) where (X_train, y_train)\n",
    "    and (X_valid, y_valid) are (1 - test_size) and (testsize) shares of (X_sparse, y).\n",
    "    '''\n",
    "\n",
    "    with open(path_to_X_pickle, 'rb') as handler:\n",
    "        X_sparse = pickle.load(handler)    \n",
    "    with open(path_to_y_pickle, 'rb') as handler:\n",
    "        y = pickle.load(handler)\n",
    "        \n",
    "    X_train, X_valid, y_train, y_valid = train_test_split(X_sparse, np.array(y), test_size=test_size, \n",
    "                                                          random_state=random_state, stratify=y)\n",
    "        \n",
    "    skf = StratifiedKFold(n_splits=3, shuffle=True, random_state=random_state)\n",
    "    \n",
    "    cv_score = []\n",
    "    for train_index, test_index in skf.split(X_train, y_train):\n",
    "        X_tr = X_train[train_index]\n",
    "        y_tr = y_train[train_index]\n",
    "        X_tst = X_train[test_index]\n",
    "        y_tst = y_train[test_index]\n",
    "        \n",
    "        estimator.fit(X_tr, y_tr)\n",
    "        cv_score.append(accuracy_score(y_tst, estimator.predict(X_tst)))\n",
    "\n",
    "    mean_cv_score = round(np.array(cv_score).mean(),3)\n",
    "    \n",
    "    \n",
    "    estimator.fit(X_train, y_train)\n",
    "    score_vaild = round(accuracy_score(y_valid, estimator.predict(X_valid)), 3)\n",
    "    \n",
    "    return mean_cv_score, score_vaild                                 "
   ]
  },
  {
   "cell_type": "markdown",
   "metadata": {
    "Collapsed": "false",
    "colab_type": "text",
    "id": "Yjtgo_ikUVKP"
   },
   "source": [
    "**Убедитесь, что функция работает.**"
   ]
  },
  {
   "cell_type": "code",
   "execution_count": 65,
   "metadata": {
    "Collapsed": "false",
    "ExecuteTime": {
     "end_time": "2020-03-03T20:55:29.734966Z",
     "start_time": "2020-03-03T20:55:26.038968Z"
    },
    "colab": {},
    "colab_type": "code",
    "id": "4S5HXZAOUVKQ"
   },
   "outputs": [
    {
     "data": {
      "text/plain": [
       "(0.765, 0.784)"
      ]
     },
     "execution_count": 65,
     "metadata": {},
     "output_type": "execute_result"
    }
   ],
   "source": [
    "model_assessment(svm_grid_searcher2.best_estimator_, \n",
    "                 os.path.join(PATH_TO_DATA, 'X_sparse_10users.pkl'),\n",
    "        os.path.join(PATH_TO_DATA, 'y_10users.pkl'), skf, random_state=17, test_size=0.3)"
   ]
  },
  {
   "cell_type": "markdown",
   "metadata": {
    "Collapsed": "false",
    "colab_type": "text",
    "id": "jRhTRVd8UVKS"
   },
   "source": [
    "**Примените функцию *model_assessment* для лучшего алгоритма из предыдущей части (а именно, `svm_grid_searcher2.best_estimator_`) и 9 выборок вида с разными сочетаниями параметров *session_length* и *window_size* для 10 пользователей. Выведите в цикле параметры *session_length* и *window_size*, а также результат вывода функции *model_assessment*. \n",
    "Удобно сделать так, чтоб *model_assessment* возвращала 3-им элементом время, за которое она выполнилась. На моем ноуте этот участок кода выполнился за 20 секунд. Но со 150 пользователями каждая итерация занимает уже несколько минут.**"
   ]
  },
  {
   "cell_type": "markdown",
   "metadata": {
    "Collapsed": "false",
    "colab_type": "text",
    "id": "i6lLE_4tUVKS"
   },
   "source": [
    "Здесь для удобства стоит создать копии ранее созданных pickle-файлов X_sparse_10users.pkl, X_sparse_150users.pkl, y_10users.pkl и y_150users.pkl, добавив к их названиям s10_w10, что означает длину сессии 10 и ширину окна 10. "
   ]
  },
  {
   "cell_type": "code",
   "execution_count": 66,
   "metadata": {
    "Collapsed": "false",
    "ExecuteTime": {
     "end_time": "2020-03-03T20:16:06.409965Z",
     "start_time": "2020-03-03T20:16:06.218982Z"
    },
    "colab": {},
    "colab_type": "code",
    "id": "WjY7DzU7UVKT"
   },
   "outputs": [
    {
     "name": "stderr",
     "output_type": "stream",
     "text": [
      "\"cp\" ­Ґ пў«пҐвбп ў­гваҐ­­Ґ© Ё«Ё ў­Ґи­Ґ©\n",
      "Є®¬ ­¤®©, ЁбЇ®«­пҐ¬®© Їа®Ја ¬¬®© Ё«Ё Ї ЄҐв­л¬ д ©«®¬.\n",
      "\"cp\" ­Ґ пў«пҐвбп ў­гваҐ­­Ґ© Ё«Ё ў­Ґи­Ґ©\n",
      "Є®¬ ­¤®©, ЁбЇ®«­пҐ¬®© Їа®Ја ¬¬®© Ё«Ё Ї ЄҐв­л¬ д ©«®¬.\n",
      "\"cp\" ­Ґ пў«пҐвбп ў­гваҐ­­Ґ© Ё«Ё ў­Ґи­Ґ©\n",
      "Є®¬ ­¤®©, ЁбЇ®«­пҐ¬®© Їа®Ја ¬¬®© Ё«Ё Ї ЄҐв­л¬ д ©«®¬.\n",
      "\"cp\" ­Ґ пў«пҐвбп ў­гваҐ­­Ґ© Ё«Ё ў­Ґи­Ґ©\n",
      "Є®¬ ­¤®©, ЁбЇ®«­пҐ¬®© Їа®Ја ¬¬®© Ё«Ё Ї ЄҐв­л¬ д ©«®¬.\n"
     ]
    }
   ],
   "source": [
    "!cp $PATH_TO_DATA/X_sparse_10users.pkl $PATH_TO_DATA/X_sparse_10users_s10_w10.pkl \n",
    "!cp $PATH_TO_DATA/X_sparse_150users.pkl $PATH_TO_DATA/X_sparse_150users_s10_w10.pkl \n",
    "!cp $PATH_TO_DATA/y_10users.pkl $PATH_TO_DATA/y_10users_s10_w10.pkl \n",
    "!cp $PATH_TO_DATA/y_150users.pkl $PATH_TO_DATA/y_150users_s10_w10.pkl "
   ]
  },
  {
   "cell_type": "code",
   "execution_count": 67,
   "metadata": {
    "Collapsed": "false",
    "ExecuteTime": {
     "end_time": "2020-03-03T20:56:50.374073Z",
     "start_time": "2020-03-03T20:56:00.924073Z"
    },
    "colab": {},
    "colab_type": "code",
    "id": "mBYsdjBKUVKV",
    "scrolled": true
   },
   "outputs": [
    {
     "name": "stdout",
     "output_type": "stream",
     "text": [
      "window_size: 10 session_lenght: 15\n",
      "(0.824, 0.842)\n",
      "---\n",
      "window_size: 10 session_lenght: 10\n",
      "(0.765, 0.784)\n",
      "---\n",
      "window_size: 7 session_lenght: 15\n",
      "(0.85, 0.856)\n",
      "---\n",
      "window_size: 7 session_lenght: 10\n",
      "(0.8, 0.807)\n",
      "---\n",
      "window_size: 7 session_lenght: 7\n",
      "(0.752, 0.763)\n",
      "---\n",
      "window_size: 5 session_lenght: 15\n",
      "(0.872, 0.877)\n",
      "---\n",
      "window_size: 5 session_lenght: 10\n",
      "(0.818, 0.829)\n",
      "---\n",
      "window_size: 5 session_lenght: 7\n",
      "(0.773, 0.788)\n",
      "---\n",
      "window_size: 5 session_lenght: 5\n",
      "(0.725, 0.738)\n",
      "---\n",
      "Wall time: 55.5 s\n"
     ]
    }
   ],
   "source": [
    "%%time\n",
    "estimator = svm_grid_searcher2.best_estimator_\n",
    "\n",
    "for window_size, session_length in itertools.product([10, 7, 5], [15, 10, 7, 5]):\n",
    "    if window_size <= session_length:\n",
    "        # X_sparse_10users_s10_w5.pkl\n",
    "        path_to_X_pkl = 'X_sparse_10users_s{0}_w{1}.pkl'.format(session_length, window_size)\n",
    "        path_to_y_pkl = 'y_sparse_10users_s{}_w{}.pkl'.format(session_length, window_size)\n",
    "        \n",
    "#         if not os.path.isfile(path_to_X_pkl):\n",
    "#             print(path_to_X_pkl)\n",
    "#         if not os.path.isfile(path_to_y_pkl):\n",
    "#             print(path_to_y_pkl)\n",
    "        \n",
    "        print('window_size: ' + str(window_size) + ' session_lenght: ' + str(session_length))\n",
    "        print(model_assessment(estimator, path_to_X_pkl, path_to_y_pkl, cv=skf))\n",
    "        print('---')\n",
    "        #break"
   ]
  },
  {
   "cell_type": "markdown",
   "metadata": {
    "Collapsed": "false",
    "colab_type": "text",
    "id": "81ZYbimUUVKZ"
   },
   "source": [
    "**<font color='red'>Вопрос 5. </font> Посчитайте доли правильных ответов для `LinearSVC` с настроенным параметром `C` и выборки `X_sparse_10users_s15_w5`. Укажите доли правильных ответов на кросс-валидации и на отложенной выборке. Округлите каждое до 3 знаков после запятой и выведите через пробел.**"
   ]
  },
  {
   "cell_type": "code",
   "execution_count": 68,
   "metadata": {
    "Collapsed": "false"
   },
   "outputs": [],
   "source": [
    "svm5 = LinearSVC(C=svm_grid_searcher2.best_estimator_.get_params()['C'], random_state=17)"
   ]
  },
  {
   "cell_type": "code",
   "execution_count": 69,
   "metadata": {
    "Collapsed": "false"
   },
   "outputs": [
    {
     "data": {
      "text/plain": [
       "(0.872, 0.877)"
      ]
     },
     "execution_count": 69,
     "metadata": {},
     "output_type": "execute_result"
    }
   ],
   "source": [
    "path_to_X_pkl = 'X_sparse_10users_s15_w5.pkl'\n",
    "path_to_y_pkl = 'y_sparse_10users_s15_w5.pkl'\n",
    "\n",
    "model_assessment(svm5, path_to_X_pkl, path_to_y_pkl, skf)"
   ]
  },
  {
   "cell_type": "markdown",
   "metadata": {
    "Collapsed": "false",
    "colab_type": "text",
    "id": "W5EolfUdUVKc"
   },
   "source": [
    "**Прокомментируйте полученные результаты. Сравните для 150 пользователей доли правильных ответов на кросс-валидации и оставленной выборке для сочетаний параметров (*session_length, window_size*): (5,5), (7,7) и (10,10). На среднем ноуте это может занять до часа – запаситесь терпением, это Data Science :) **\n",
    "\n",
    "**Сделайте вывод о том, как качество классификации зависит от длины сессии и ширины окна.**"
   ]
  },
  {
   "cell_type": "code",
   "execution_count": 70,
   "metadata": {
    "Collapsed": "false",
    "ExecuteTime": {
     "end_time": "2020-03-03T12:40:11.475722Z",
     "start_time": "2020-03-03T12:39:57.331Z"
    },
    "colab": {},
    "colab_type": "code",
    "id": "yVxtCUiKUVKc"
   },
   "outputs": [
    {
     "ename": "SyntaxError",
     "evalue": "Missing parentheses in call to 'print'. Did you mean print(''' ВАШ КОД ЗДЕСЬ ''')? (<unknown>, line 6)",
     "output_type": "error",
     "traceback": [
      "Traceback \u001b[1;36m(most recent call last)\u001b[0m:\n",
      "  File \u001b[0;32m\"C:\\Anaconda3\\lib\\site-packages\\IPython\\core\\interactiveshell.py\"\u001b[0m, line \u001b[0;32m2961\u001b[0m, in \u001b[0;35mrun_code\u001b[0m\n    exec(code_obj, self.user_global_ns, self.user_ns)\n",
      "  File \u001b[0;32m\"<ipython-input-70-28eb6a6cb1f1>\"\u001b[0m, line \u001b[0;32m1\u001b[0m, in \u001b[0;35m<module>\u001b[0m\n    get_ipython().run_cell_magic('time', '', \"estimator = svm_grid_searcher2.best_estimator_\\n\\nfor window_size, session_length in [(5,5), (7,7), (10,10)]:    \\n    path_to_X_pkl = 'X_sparse_10users_s{0}_w{1}.pkl'.format(session_length, window_size)\\n    path_to_y_pkl = 'y_sparse_10users_s{0}_w{1}.pkl'.format(session_length, window_size)\\n    print           ''' ВАШ КОД ЗДЕСЬ '''\")\n",
      "  File \u001b[0;32m\"C:\\Anaconda3\\lib\\site-packages\\IPython\\core\\interactiveshell.py\"\u001b[0m, line \u001b[0;32m2167\u001b[0m, in \u001b[0;35mrun_cell_magic\u001b[0m\n    result = fn(magic_arg_s, cell)\n",
      "  File \u001b[0;32m\"<decorator-gen-63>\"\u001b[0m, line \u001b[0;32m2\u001b[0m, in \u001b[0;35mtime\u001b[0m\n",
      "  File \u001b[0;32m\"C:\\Anaconda3\\lib\\site-packages\\IPython\\core\\magic.py\"\u001b[0m, line \u001b[0;32m187\u001b[0m, in \u001b[0;35m<lambda>\u001b[0m\n    call = lambda f, *a, **k: f(*a, **k)\n",
      "  File \u001b[0;32m\"C:\\Anaconda3\\lib\\site-packages\\IPython\\core\\magics\\execution.py\"\u001b[0m, line \u001b[0;32m1201\u001b[0m, in \u001b[0;35mtime\u001b[0m\n    expr_ast = self.shell.compile.ast_parse(expr)\n",
      "\u001b[1;36m  File \u001b[1;32m\"C:\\Anaconda3\\lib\\site-packages\\IPython\\core\\compilerop.py\"\u001b[1;36m, line \u001b[1;32m117\u001b[1;36m, in \u001b[1;35mast_parse\u001b[1;36m\u001b[0m\n\u001b[1;33m    return self._fix_module_ds(compile(source, filename, symbol, self.flags | PyCF_ONLY_AST, 1))\u001b[0m\n",
      "\u001b[1;36m  File \u001b[1;32m\"<unknown>\"\u001b[1;36m, line \u001b[1;32m6\u001b[0m\n\u001b[1;33m    print           ''' ВАШ КОД ЗДЕСЬ '''\u001b[0m\n\u001b[1;37m                                        ^\u001b[0m\n\u001b[1;31mSyntaxError\u001b[0m\u001b[1;31m:\u001b[0m Missing parentheses in call to 'print'. Did you mean print(''' ВАШ КОД ЗДЕСЬ ''')?\n"
     ]
    }
   ],
   "source": [
    "%%time\n",
    "estimator = svm_grid_searcher2.best_estimator_\n",
    "\n",
    "for window_size, session_length in [(5,5), (7,7), (10,10)]:    \n",
    "    path_to_X_pkl = 'X_sparse_10users_s{0}_w{1}.pkl'.format(session_length, window_size)\n",
    "    path_to_y_pkl = 'y_sparse_10users_s{0}_w{1}.pkl'.format(session_length, window_size)\n",
    "    print           ''' ВАШ КОД ЗДЕСЬ '''"
   ]
  },
  {
   "cell_type": "markdown",
   "metadata": {
    "Collapsed": "false",
    "colab_type": "text",
    "id": "lXbkJaVhUVKe"
   },
   "source": [
    "**<font color='red'>Вопрос 6. </font> Посчитайте доли правильных ответов для `LinearSVC` с настроенным параметром `C` и выборки `X_sparse_150users`. Укажите доли правильных ответов на кросс-валидации и на отложенной выборке. Округлите каждое до 3 знаков после запятой и выведите через пробел.**"
   ]
  },
  {
   "cell_type": "code",
   "execution_count": 72,
   "metadata": {
    "Collapsed": "false",
    "ExecuteTime": {
     "end_time": "2020-03-03T12:40:11.476728Z",
     "start_time": "2020-03-03T12:39:57.338Z"
    },
    "colab": {},
    "colab_type": "code",
    "id": "4___qJwFUVKf"
   },
   "outputs": [
    {
     "data": {
      "text/plain": [
       "(0.46, 0.484)"
      ]
     },
     "execution_count": 72,
     "metadata": {},
     "output_type": "execute_result"
    }
   ],
   "source": [
    "path_to_X_pkl = 'X_sparse_150users.pkl'\n",
    "path_to_y_pkl = 'y_150users.pkl'\n",
    "\n",
    "model_assessment(svm_grid_searcher2.best_estimator_, path_to_X_pkl, path_to_y_pkl, skf)"
   ]
  },
  {
   "cell_type": "markdown",
   "metadata": {
    "Collapsed": "false",
    "colab_type": "text",
    "id": "RUcmE17kUVKj"
   },
   "source": [
    "## Часть 3. Идентификация  конкретного пользователя и кривые обучения"
   ]
  },
  {
   "cell_type": "markdown",
   "metadata": {
    "Collapsed": "false",
    "colab_type": "text",
    "id": "IHc3kYgZUVKj"
   },
   "source": [
    "**Поскольку может разочаровать, что многоклассовая доля правильных ответов на выборке из 150 пользовалей невелика, порадуемся тому, что конкретного пользователя можно идентифицировать достаточно хорошо. **"
   ]
  },
  {
   "cell_type": "markdown",
   "metadata": {
    "Collapsed": "false",
    "colab_type": "text",
    "id": "_K9UThOKUVKm"
   },
   "source": [
    "**Загрузим сериализованные ранее объекты *X_sparse_150users* и *y_150users*, соответствующие обучающей выборке для 150 пользователей с параметрами (*session_length, window_size*) = (10,10). Так же точно разобьем их на 70% и 30%.**"
   ]
  },
  {
   "cell_type": "code",
   "execution_count": 73,
   "metadata": {
    "Collapsed": "false",
    "ExecuteTime": {
     "end_time": "2020-03-03T12:40:11.477725Z",
     "start_time": "2020-03-03T12:39:57.347Z"
    },
    "colab": {},
    "colab_type": "code",
    "id": "dZNcN9ZfUVKo"
   },
   "outputs": [],
   "source": [
    "with open(os.path.join(PATH_TO_DATA, 'X_sparse_150users.pkl'), 'rb') as X_sparse_150users_pkl:\n",
    "     X_sparse_150users = pickle.load(X_sparse_150users_pkl)\n",
    "with open(os.path.join(PATH_TO_DATA, 'y_150users.pkl'), 'rb') as y_150users_pkl:\n",
    "    y_150users = pickle.load(y_150users_pkl)"
   ]
  },
  {
   "cell_type": "code",
   "execution_count": 74,
   "metadata": {
    "Collapsed": "false",
    "ExecuteTime": {
     "end_time": "2020-03-03T12:40:11.479723Z",
     "start_time": "2020-03-03T12:39:57.355Z"
    },
    "colab": {},
    "colab_type": "code",
    "id": "8jEbWHY1UVKq"
   },
   "outputs": [],
   "source": [
    "X_train_150, X_valid_150, y_train_150, y_valid_150 = train_test_split(X_sparse_150users, \n",
    "                                                                      y_150users, test_size=0.3, \n",
    "                                                     random_state=17, stratify=y_150users)"
   ]
  },
  {
   "cell_type": "markdown",
   "metadata": {
    "Collapsed": "false",
    "colab_type": "text",
    "id": "hzWcPvJNUVKs"
   },
   "source": [
    "**Обучите `LogisticRegressionCV` для одного значения параметра `C` (лучшего на кросс-валидации в 1 части, используйте точное значение, не на глаз). Теперь будем решать 150 задач \"Один-против-Всех\", поэтому укажите аргумент `multi_class`='ovr'. Как всегда, где возможно, указывайте `n_jobs=-1` и `random_state`=17.**"
   ]
  },
  {
   "cell_type": "code",
   "execution_count": 78,
   "metadata": {
    "Collapsed": "false"
   },
   "outputs": [
    {
     "data": {
      "text/plain": [
       "numpy.float64"
      ]
     },
     "execution_count": 78,
     "metadata": {},
     "output_type": "execute_result"
    }
   ],
   "source": [
    "logit_c_values1[best_c_index]"
   ]
  },
  {
   "cell_type": "code",
   "execution_count": 118,
   "metadata": {
    "Collapsed": "false",
    "ExecuteTime": {
     "end_time": "2020-03-03T12:40:11.480736Z",
     "start_time": "2020-03-03T12:39:57.362Z"
    },
    "colab": {},
    "colab_type": "code",
    "id": "w2rECx-nUVKt"
   },
   "outputs": [
    {
     "name": "stdout",
     "output_type": "stream",
     "text": [
      "Wall time: 4min 57s\n"
     ]
    }
   ],
   "source": [
    "%%time\n",
    "logit_cv_150users = LogisticRegressionCV(Cs=[logit_c_values2[best_c_index2]], multi_class='ovr', \n",
    "                                         random_state=17, n_jobs=-1, cv=skf)\n",
    "logit_cv_150users.fit(X_train_150, y_train_150)"
   ]
  },
  {
   "cell_type": "code",
   "execution_count": 127,
   "metadata": {
    "Collapsed": "false",
    "ExecuteTime": {
     "end_time": "2020-03-03T12:40:11.480736Z",
     "start_time": "2020-03-03T12:39:57.362Z"
    },
    "colab": {},
    "colab_type": "code",
    "id": "w2rECx-nUVKt"
   },
   "outputs": [
    {
     "name": "stdout",
     "output_type": "stream",
     "text": [
      "Wall time: 29min 6s\n"
     ]
    }
   ],
   "source": [
    "%%time\n",
    "\n",
    "# Alternate\n",
    "logit_c_values1 = np.logspace(-4, 2, 10)\n",
    "logit_c_values2 = np.linspace(0.1, 7, 20)\n",
    "\n",
    "logit_cv_150users = LogisticRegressionCV(Cs=logit_c_values2, multi_class='ovr', \n",
    "                                         random_state=17, n_jobs=-1, cv=skf)\n",
    "logit_cv_150users.fit(X_train_150, y_train_150)"
   ]
  },
  {
   "cell_type": "markdown",
   "metadata": {
    "Collapsed": "false",
    "colab_type": "text",
    "id": "syXfwqjPUVKv"
   },
   "source": [
    "**Посмотрите на средние доли правильных ответов на кросс-валидации в задаче идентификации каждого пользователя по отдельности.**"
   ]
  },
  {
   "cell_type": "code",
   "execution_count": 128,
   "metadata": {
    "Collapsed": "false",
    "ExecuteTime": {
     "end_time": "2020-03-03T12:40:11.481726Z",
     "start_time": "2020-03-03T12:39:57.368Z"
    },
    "colab": {},
    "colab_type": "code",
    "id": "WzrameDNUVKx"
   },
   "outputs": [
    {
     "name": "stdout",
     "output_type": "stream",
     "text": [
      "User 6, CV score: 0.9960204504513475\n",
      "User 13, CV score: 0.9963451898379284\n",
      "User 15, CV score: 0.9951805055892229\n",
      "User 16, CV score: 0.991912118844098\n",
      "User 28, CV score: 0.9902743062775414\n",
      "User 31, CV score: 0.9942963127726737\n",
      "User 33, CV score: 0.9935738155800696\n",
      "User 39, CV score: 0.9859492431689215\n",
      "User 46, CV score: 0.997914948061116\n",
      "User 49, CV score: 0.9951475001212499\n",
      "User 50, CV score: 0.9942827364362543\n",
      "User 53, CV score: 0.9935447792823776\n",
      "User 65, CV score: 0.9969378419639349\n",
      "User 66, CV score: 0.9947247019402946\n",
      "User 82, CV score: 0.9962519057638384\n",
      "User 85, CV score: 0.9963336127665178\n",
      "User 89, CV score: 0.9904675927417678\n",
      "User 92, CV score: 0.9943677162758847\n",
      "User 100, CV score: 0.9945586133451597\n",
      "User 102, CV score: 0.9914211923364428\n",
      "User 103, CV score: 0.9808521785282968\n",
      "User 105, CV score: 0.9969159882552946\n",
      "User 106, CV score: 0.9947180730339933\n",
      "User 118, CV score: 0.9910081231620421\n",
      "User 119, CV score: 0.996662765867749\n",
      "User 120, CV score: 0.9942208908566161\n",
      "User 126, CV score: 0.9950158838476562\n",
      "User 127, CV score: 0.9914427383978456\n",
      "User 128, CV score: 0.9847251591325763\n",
      "User 138, CV score: 0.9971569209110255\n",
      "User 158, CV score: 0.9970854752894827\n",
      "User 160, CV score: 0.9967588665717286\n",
      "User 165, CV score: 0.9973641128347591\n",
      "User 172, CV score: 0.9965395828049881\n",
      "User 177, CV score: 0.9968239734757902\n",
      "User 203, CV score: 0.9975101345934526\n",
      "User 207, CV score: 0.9875832367228217\n",
      "User 223, CV score: 0.99643005628792\n",
      "User 233, CV score: 0.9963202413776149\n",
      "User 235, CV score: 0.9966266106630106\n",
      "User 236, CV score: 0.9901028682359583\n",
      "User 237, CV score: 0.9890622768047229\n",
      "User 238, CV score: 0.9962357003957852\n",
      "User 240, CV score: 0.9956642611145604\n",
      "User 241, CV score: 0.995952973233661\n",
      "User 242, CV score: 0.995056354668939\n",
      "User 245, CV score: 0.9960532920430704\n",
      "User 246, CV score: 0.9969566337071082\n",
      "User 249, CV score: 0.9949606279638149\n",
      "User 252, CV score: 0.996395054161968\n",
      "User 254, CV score: 0.99188125186625\n",
      "User 256, CV score: 0.9960485572630985\n",
      "User 258, CV score: 0.9958034260330051\n",
      "User 259, CV score: 0.9948923775084973\n",
      "User 260, CV score: 0.9973491293426145\n",
      "User 261, CV score: 0.9896977823846475\n",
      "User 263, CV score: 0.9926070312478458\n",
      "User 264, CV score: 0.9965387144189022\n",
      "User 269, CV score: 0.9869944749831624\n",
      "User 270, CV score: 0.9892427463511296\n",
      "User 273, CV score: 0.9941674945471877\n",
      "User 287, CV score: 0.9901546035515406\n",
      "User 294, CV score: 0.995757811763658\n",
      "User 298, CV score: 0.9911691869885499\n",
      "User 301, CV score: 0.9971845082907985\n",
      "User 308, CV score: 0.9957488103057396\n",
      "User 315, CV score: 0.9975489900077267\n",
      "User 318, CV score: 0.9958435955339577\n",
      "User 327, CV score: 0.9964906534237965\n",
      "User 332, CV score: 0.9967456170475185\n",
      "User 333, CV score: 0.9962398812267137\n",
      "User 339, CV score: 0.9972303578595133\n",
      "User 340, CV score: 0.9966495579778664\n",
      "User 342, CV score: 0.9919098737770256\n",
      "User 344, CV score: 0.9965765979631845\n",
      "User 351, CV score: 0.9923461752185162\n",
      "User 356, CV score: 0.9976062243262711\n",
      "User 361, CV score: 0.9963791788232735\n",
      "User 363, CV score: 0.9963815967226836\n",
      "User 411, CV score: 0.9911820924709791\n",
      "User 417, CV score: 0.9967225950464248\n",
      "User 425, CV score: 0.9943219237073357\n",
      "User 430, CV score: 0.9963003112952756\n",
      "User 435, CV score: 0.9969477741134294\n",
      "User 436, CV score: 0.9951674985945725\n",
      "User 440, CV score: 0.9969893792172038\n",
      "User 444, CV score: 0.9978533012235843\n",
      "User 475, CV score: 0.9892536567817719\n",
      "User 476, CV score: 0.9969242311952876\n",
      "User 486, CV score: 0.9953492402354125\n",
      "User 515, CV score: 0.9939610190168775\n",
      "User 533, CV score: 0.9938611151775741\n",
      "User 561, CV score: 0.9842868317273712\n",
      "User 563, CV score: 0.996810485377715\n",
      "User 564, CV score: 0.9957179172097803\n",
      "User 568, CV score: 0.9917564680351071\n",
      "User 569, CV score: 0.9894197444083096\n",
      "User 570, CV score: 0.9982281771332125\n",
      "User 573, CV score: 0.9906030219785525\n",
      "User 575, CV score: 0.990301691413056\n",
      "User 576, CV score: 0.994056123408648\n",
      "User 580, CV score: 0.9865203195515242\n",
      "User 583, CV score: 0.9808390202892738\n",
      "User 584, CV score: 0.9810646739461485\n",
      "User 600, CV score: 0.9915043578367505\n",
      "User 603, CV score: 0.9957215294518328\n",
      "User 605, CV score: 0.9975450937366396\n",
      "User 640, CV score: 0.9972099105937338\n",
      "User 647, CV score: 0.9975259460792466\n",
      "User 653, CV score: 0.9972271792067964\n",
      "User 664, CV score: 0.9951465352655332\n",
      "User 665, CV score: 0.9969946732041384\n",
      "User 677, CV score: 0.9966414190400319\n",
      "User 692, CV score: 0.996906496956392\n",
      "User 697, CV score: 0.9958279664277421\n",
      "User 705, CV score: 0.9964009936544194\n",
      "User 722, CV score: 0.994707010442162\n",
      "User 740, CV score: 0.9965396645092887\n",
      "User 741, CV score: 0.9968212031218862\n",
      "User 756, CV score: 0.9957440190707555\n",
      "User 780, CV score: 0.9963713627351947\n",
      "User 784, CV score: 0.9966018255314254\n",
      "User 785, CV score: 0.9968456040250001\n",
      "User 797, CV score: 0.9956567790182939\n",
      "User 812, CV score: 0.9947825764490742\n",
      "User 844, CV score: 0.9969510444162374\n",
      "User 859, CV score: 0.9982442689849379\n",
      "User 868, CV score: 0.9965728087791338\n",
      "User 875, CV score: 0.9956440533532075\n",
      "User 932, CV score: 0.990573202059648\n",
      "User 996, CV score: 0.993223237919246\n",
      "User 1014, CV score: 0.9971589141353491\n",
      "User 1040, CV score: 0.9968832552868849\n",
      "User 1054, CV score: 0.9965813047557587\n",
      "User 1248, CV score: 0.9978602254089427\n",
      "User 1267, CV score: 0.9972553927020414\n",
      "User 1299, CV score: 0.996980087655906\n",
      "User 1371, CV score: 0.9933899822931305\n",
      "User 1797, CV score: 0.9949571047329294\n",
      "User 1798, CV score: 0.9963815235595651\n",
      "User 1993, CV score: 0.9967900026830321\n",
      "User 2118, CV score: 0.9977557840735913\n",
      "User 2174, CV score: 0.9957223503612913\n",
      "User 2191, CV score: 0.9951712308021594\n",
      "User 2250, CV score: 0.9972953425863611\n",
      "User 2355, CV score: 0.9958062193739147\n",
      "User 2408, CV score: 0.9936467975508191\n",
      "User 2493, CV score: 0.9966500951339523\n",
      "User 2625, CV score: 0.9960324289015169\n",
      "User 2902, CV score: 0.9970792694970976\n"
     ]
    }
   ],
   "source": [
    "cv_scores_by_user = {}\n",
    "for user_id in logit_cv_150users.scores_:\n",
    "    cv_scores_by_user[user_id] = logit_cv_150users.scores_[user_id].mean()\n",
    "    print('User {}, CV score: {}'.format(user_id, cv_scores_by_user[user_id]))\n",
    "    "
   ]
  },
  {
   "cell_type": "markdown",
   "metadata": {
    "Collapsed": "false",
    "colab_type": "text",
    "id": "NeyT9RIIUVK2"
   },
   "source": [
    "**Результаты кажутся впечатляющими, но возможно, мы забываем про дисбаланс классов, и высокую долю правильных ответов можно получить константным прогнозом. Посчитайте для каждого пользователя разницу между долей правильных ответов на кросс-валидации (только что посчитанную с помощью `LogisticRegressionCV`) и долей меток в *y_train_150*, отличных от ID \n",
    " этого пользователя (именно такую долю правильных ответов можно получить, если классификатор всегда \"говорит\", что это не пользователь с номером $i$ в задаче классификации $i$-vs-All).**"
   ]
  },
  {
   "cell_type": "code",
   "execution_count": 133,
   "metadata": {
    "Collapsed": "false",
    "ExecuteTime": {
     "end_time": "2020-03-03T12:40:11.484725Z",
     "start_time": "2020-03-03T12:39:57.376Z"
    },
    "colab": {},
    "colab_type": "code",
    "id": "XacYn7GdUVK2"
   },
   "outputs": [],
   "source": [
    "class_distr = np.bincount(y_train_150.astype('int'))\n",
    "acc_diff_vs_constant = []\n",
    "\n",
    "for user_id in np.unique(y_train_150):\n",
    "    acc_diff_vs_constant.append(cv_scores_by_user[user_id] - \n",
    "                                (class_distr.sum() - class_distr[user_id])/class_distr.sum())\n",
    "    "
   ]
  },
  {
   "cell_type": "code",
   "execution_count": 134,
   "metadata": {
    "Collapsed": "false",
    "ExecuteTime": {
     "end_time": "2020-03-03T12:40:11.486725Z",
     "start_time": "2020-03-03T12:39:57.382Z"
    },
    "colab": {},
    "colab_type": "code",
    "id": "ib1ucUp6UVK6"
   },
   "outputs": [],
   "source": [
    "# num_better_than_default = (np.array(list(acc_diff_vs_constant.values())) > 0).sum()\n",
    "num_better_than_default = (np.array(list(acc_diff_vs_constant)) > 0).sum()"
   ]
  },
  {
   "cell_type": "code",
   "execution_count": 135,
   "metadata": {
    "Collapsed": "false"
   },
   "outputs": [
    {
     "data": {
      "text/plain": [
       "0.8133333333333334"
      ]
     },
     "execution_count": 135,
     "metadata": {},
     "output_type": "execute_result"
    }
   ],
   "source": [
    "num_better_than_default / np.unique(y_train_150).shape[0]"
   ]
  },
  {
   "cell_type": "markdown",
   "metadata": {
    "Collapsed": "false",
    "colab_type": "text",
    "id": "RYxwTnneUVK-"
   },
   "source": [
    "**<font color='red'>Вопрос 7. </font> Посчитайте долю пользователей, для которых логистическая регрессия на кросс-валидации дает прогноз лучше константного. Округлите до 3 знаков после запятой.**"
   ]
  },
  {
   "cell_type": "code",
   "execution_count": null,
   "metadata": {
    "Collapsed": "false",
    "ExecuteTime": {
     "end_time": "2020-03-03T12:40:11.487724Z",
     "start_time": "2020-03-03T12:39:57.390Z"
    },
    "colab": {},
    "colab_type": "code",
    "id": "B8YZYh5IUVK-"
   },
   "outputs": [],
   "source": [
    "''' ВАШ КОД ЗДЕСЬ '''"
   ]
  },
  {
   "cell_type": "markdown",
   "metadata": {
    "Collapsed": "false",
    "colab_type": "text",
    "id": "6Wl-QALQUVLA"
   },
   "source": [
    "**Дальше будем строить кривые обучения для конкретного пользователя, допустим, для 128-го. Составьте новый бинарный вектор на основе *y_150users*, его значения будут 1 или 0 в зависимости от того, равен ли ID-шник пользователя 128.**"
   ]
  },
  {
   "cell_type": "code",
   "execution_count": 150,
   "metadata": {
    "Collapsed": "false",
    "ExecuteTime": {
     "end_time": "2020-03-03T12:40:11.488725Z",
     "start_time": "2020-03-03T12:39:57.396Z"
    },
    "colab": {},
    "colab_type": "code",
    "id": "g5djDrtjUVLB"
   },
   "outputs": [],
   "source": [
    "y_binary_128 = [1 if x==128 else 0 for x in y_150users]"
   ]
  },
  {
   "cell_type": "code",
   "execution_count": 152,
   "metadata": {
    "Collapsed": "false",
    "ExecuteTime": {
     "end_time": "2020-03-03T12:40:11.489723Z",
     "start_time": "2020-03-03T12:39:57.402Z"
    },
    "colab": {},
    "colab_type": "code",
    "id": "v_g9koIyUVLE"
   },
   "outputs": [],
   "source": [
    "from sklearn.model_selection import learning_curve\n",
    "\n",
    "def plot_learning_curve(val_train, val_test, train_sizes, \n",
    "                        xlabel='Training Set Size', ylabel='score'):\n",
    "    def plot_with_err(x, data, **kwargs):\n",
    "        mu, std = data.mean(1), data.std(1)\n",
    "        lines = plt.plot(x, mu, '-', **kwargs)\n",
    "        plt.fill_between(x, mu - std, mu + std, edgecolor='none',\n",
    "                         facecolor=lines[0].get_color(), alpha=0.2)\n",
    "    plot_with_err(train_sizes, val_train, label='train')\n",
    "    plot_with_err(train_sizes, val_test, label='valid')\n",
    "    plt.xlabel(xlabel); plt.ylabel(ylabel)\n",
    "    plt.legend(loc='lower right');"
   ]
  },
  {
   "cell_type": "markdown",
   "metadata": {
    "Collapsed": "false",
    "colab_type": "text",
    "id": "Radol4S4UVLG"
   },
   "source": [
    "**Посчитайте доли правильных ответов на кросс-валидации в задаче классификации \"user128-vs-All\" в зависимости от размера выборки. Не помешает посмотреть встроенную документацию для *learning_curve*.**"
   ]
  },
  {
   "cell_type": "code",
   "execution_count": 167,
   "metadata": {
    "Collapsed": "false"
   },
   "outputs": [
    {
     "data": {
      "text/plain": [
       "array([0, 1])"
      ]
     },
     "execution_count": 167,
     "metadata": {},
     "output_type": "execute_result"
    }
   ],
   "source": [
    "np.unique(np.array(y_binary_128))"
   ]
  },
  {
   "cell_type": "code",
   "execution_count": 168,
   "metadata": {
    "Collapsed": "false",
    "ExecuteTime": {
     "end_time": "2020-03-03T12:40:11.491726Z",
     "start_time": "2020-03-03T12:39:57.411Z"
    },
    "colab": {},
    "colab_type": "code",
    "id": "l8a41VHfUVLG"
   },
   "outputs": [
    {
     "name": "stdout",
     "output_type": "stream",
     "text": [
      "Wall time: 34.1 s\n"
     ]
    }
   ],
   "source": [
    "%%time\n",
    "train_sizes = np.linspace(0.25, 1, 20)\n",
    "estimator = svm_grid_searcher2.best_estimator_\n",
    "n_train, val_train, val_test = learning_curve(estimator, X=X_sparse_150users, y=y_binary_128, train_sizes=train_sizes, cv=skf)"
   ]
  },
  {
   "cell_type": "code",
   "execution_count": 169,
   "metadata": {
    "Collapsed": "false",
    "ExecuteTime": {
     "end_time": "2020-03-03T12:40:11.492724Z",
     "start_time": "2020-03-03T12:39:57.417Z"
    },
    "colab": {},
    "colab_type": "code",
    "id": "fiLqjczHUVLJ"
   },
   "outputs": [
    {
     "data": {
      "image/png": "[encoded data removed]",
      "text/plain": [
       "<Figure size 432x288 with 1 Axes>"
      ]
     },
     "metadata": {
      "needs_background": "light"
     },
     "output_type": "display_data"
    }
   ],
   "source": [
    "plot_learning_curve(val_train, val_test, n_train, \n",
    "                    xlabel='train_size', ylabel='accuracy')"
   ]
  },
  {
   "cell_type": "markdown",
   "metadata": {
    "Collapsed": "false",
    "colab_type": "text",
    "id": "IGA5iICKUVLL"
   },
   "source": [
    "**Сделайте выводы о том, помогут ли алгоритму новые размеченные данные при той же постановке задачи.**"
   ]
  },
  {
   "cell_type": "markdown",
   "metadata": {
    "Collapsed": "false",
    "colab_type": "text",
    "id": "otKN3dzGUVLM"
   },
   "source": [
    "## Пути улучшения\n",
    "- конечно, можно проверить еще кучу алгоритмов, например, Xgboost, но в такой задаче очень маловероятно, что что-то справится лучше линейных методов\n",
    "- интересно проверить качество алгоритма на данных, где сессии выделялись не по количеству посещенных сайтов, а по времени, например, 5, 7, 10 и 15 минут. Отдельно стоит отметить данные нашего [соревнования](https://inclass.kaggle.com/c/catch-me-if-you-can-intruder-detection-through-webpage-session-tracking2) \n",
    "- опять же, если ресурсы позволяют, можно проверить, насколько хорошо можно решить задачу для 3000 пользователей\n",
    "\n",
    "\n",
    "На следующей неделе мы вспомним про линейные модели, обучаемые стохастическим градиентным спуском, и порадуемся тому, насколько быстрее они работают. Также сделаем первые (или не первые) посылки в [соревновании](https://inclass.kaggle.com/c/catch-me-if-you-can-intruder-detection-through-webpage-session-tracking2) Kaggle Inclass."
   ]
  }
 ],
 "metadata": {
  "anaconda-cloud": {},
  "colab": {
   "collapsed_sections": [
    "dl_xGonxUVKK",
    "RUcmE17kUVKj",
    "otKN3dzGUVLM"
   ],
   "name": "week4_training.ipynb",
   "provenance": []
  },
  "hide_input": false,
  "kernelspec": {
   "display_name": "Python 3",
   "language": "python",
   "name": "python3"
  },
  "language_info": {
   "codemirror_mode": {
    "name": "ipython",
    "version": 3
   },
   "file_extension": ".py",
   "mimetype": "text/x-python",
   "name": "python",
   "nbconvert_exporter": "python",
   "pygments_lexer": "ipython3",
   "version": "3.7.0"
  },
  "toc": {
   "base_numbering": 1,
   "nav_menu": {},
   "number_sections": true,
   "sideBar": true,
   "skip_h1_title": false,
   "title_cell": "Table of Contents",
   "title_sidebar": "Contents",
   "toc_cell": false,
   "toc_position": {},
   "toc_section_display": true,
   "toc_window_display": false
  },
  "varInspector": {
   "cols": {
    "lenName": 16,
    "lenType": 16,
    "lenVar": 40
   },
   "kernels_config": {
    "python": {
     "delete_cmd_postfix": "",
     "delete_cmd_prefix": "del ",
     "library": "var_list.py",
     "varRefreshCmd": "print(var_dic_list())"
    },
    "r": {
     "delete_cmd_postfix": ") ",
     "delete_cmd_prefix": "rm(",
     "library": "var_list.r",
     "varRefreshCmd": "cat(var_dic_list()) "
    }
   },
   "types_to_exclude": [
    "module",
    "function",
    "builtin_function_or_method",
    "instance",
    "_Feature"
   ],
   "window_display": false
  }
 },
 "nbformat": 4,
 "nbformat_minor": 4
}
