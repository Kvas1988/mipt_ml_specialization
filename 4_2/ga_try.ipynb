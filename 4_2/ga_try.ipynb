{
 "cells": [
  {
   "cell_type": "code",
   "execution_count": 6,
   "metadata": {},
   "outputs": [],
   "source": [
    "import argparse\n",
    "import datetime\n",
    "import pytz\n",
    "import cx_Oracle as ora\n",
    "\n",
    "from apiclient.discovery import build\n",
    "import httplib2\n",
    "from oauth2client import client\n",
    "from oauth2client import file\n",
    "from oauth2client import tools"
   ]
  },
  {
   "cell_type": "code",
   "execution_count": null,
   "metadata": {},
   "outputs": [],
   "source": []
  },
  {
   "cell_type": "code",
   "execution_count": 11,
   "metadata": {},
   "outputs": [],
   "source": [
    "SCOPES = ['https://www.googleapis.com/auth/analytics.readonly']\n",
    "DISCOVERY_URI = ('https://analyticsreporting.googleapis.com/$discovery/rest')\n",
    "#VIEW_ID в main()\n",
    "# Путь к файлу client_secrets.json.\n",
    "CLIENT_SECRETS_PATH = \"c:\\\\SKP\\\\snq-scripts\\\\GooleAnalytics\\\\client_secret_878046399105-v070ud06bdjgmcmklf4ooila4j2qsdi5.apps.googleusercontent.com.json\""
   ]
  },
  {
   "cell_type": "code",
   "execution_count": 7,
   "metadata": {},
   "outputs": [],
   "source": [
    "local_tz = pytz.timezone('Europe/Moscow')\n",
    "def utc_to_local(utc_dt):\n",
    "    local_dt = utc_dt.replace(tzinfo=pytz.utc).astimezone(local_tz)\n",
    "    return local_tz.normalize(local_dt) # .normalize might be unnecessary"
   ]
  },
  {
   "cell_type": "code",
   "execution_count": 8,
   "metadata": {},
   "outputs": [],
   "source": [
    "def initialize_analyticsreporting():\n",
    "  \"\"\"Инициализирует объект службы analyticsreporting.\n",
    "\n",
    "  Возвращает Analytics – авторизованный объект службы Analytics Reporting.\n",
    "  \"\"\"\n",
    "  # Синтаксический анализ аргументов командной строки.\n",
    "  parser = argparse.ArgumentParser(\n",
    "      formatter_class=argparse.RawDescriptionHelpFormatter,\n",
    "      parents=[tools.argparser])\n",
    "  flags = parser.parse_args([])\n",
    "\n",
    "  # Настройка объекта Flow, который будет использоваться при необходимости аутентификации.\n",
    "  flow = client.flow_from_clientsecrets(\n",
    "      CLIENT_SECRETS_PATH, scope=SCOPES,\n",
    "      message=tools.message_if_missing(CLIENT_SECRETS_PATH))\n",
    "\n",
    "  # Подготовьте учетные данные и авторизуйте с их помощью объект HTTP.\n",
    "  # Если учетные данные недействительны или не существуют, воспользуйтесь оригинальной\n",
    "  # процедурой клиента. Применение объекта Storage гарантирует, что в случае успеха правильные\n",
    "  # учетные данные будут записаны обратно в файл.\n",
    "  storage = file.Storage('analyticsreporting.dat')\n",
    "  credentials = storage.get()\n",
    "  if credentials is None or credentials.invalid:\n",
    "    credentials = tools.run_flow(flow, storage, flags)\n",
    "  http = credentials.authorize(http=httplib2.Http())\n",
    "\n",
    "  # Создание объекта службы.\n",
    "  analytics = build('analytics', 'v4', http=http, discoveryServiceUrl=DISCOVERY_URI)\n",
    "\n",
    "  return analytics"
   ]
  },
  {
   "cell_type": "code",
   "execution_count": 9,
   "metadata": {},
   "outputs": [],
   "source": [
    "def get_last_sql_data():\n",
    "    #Oracle connection\n",
    "    dsnStr = ora.makedsn(\"dwh.snq.ru\", \"1521\", \"DWH\")\n",
    "    con = ora.connect(user=\"ROMAN.BYCHKOV\", password=\"communism88\", dsn=dsnStr)\n",
    "\n",
    "    #Take last date from SQL Table\n",
    "    cur = con.cursor()\n",
    "    cur.execute('''select max(dt) dt\n",
    "                   from inet_traffic2 t''')\n",
    "    for row in cur:\n",
    "        max_data = row[0]\n",
    "        max_data = utc_to_local(max_data)\n",
    "        print(\"last date in inet_traffic2 {}\".format(max_data))\n",
    "\n",
    "    next_date = max_data + datetime.timedelta(days=1) #getting next date\n",
    "    next_date_str = next_date.strftime(\"%Y-%m-%d\") #next date to string format\n",
    "\n",
    "    cur.close()\n",
    "    con.close()\n",
    "\n",
    "    return(next_date_str)"
   ]
  },
  {
   "cell_type": "code",
   "execution_count": null,
   "metadata": {},
   "outputs": [],
   "source": []
  },
  {
   "cell_type": "code",
   "execution_count": null,
   "metadata": {},
   "outputs": [],
   "source": [
    "analytics = initialize_analyticsreporting()"
   ]
  },
  {
   "cell_type": "code",
   "execution_count": null,
   "metadata": {},
   "outputs": [],
   "source": []
  }
 ],
 "metadata": {
  "kernelspec": {
   "display_name": "Python 3",
   "language": "python",
   "name": "python3"
  },
  "language_info": {
   "name": ""
  }
 },
 "nbformat": 4,
 "nbformat_minor": 2
}
