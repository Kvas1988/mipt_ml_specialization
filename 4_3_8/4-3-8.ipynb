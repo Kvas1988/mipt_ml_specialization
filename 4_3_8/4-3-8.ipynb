{
 "cells": [
  {
   "cell_type": "code",
   "execution_count": 1,
   "metadata": {},
   "outputs": [],
   "source": [
    "import pandas as pd\n",
    "import numpy as np"
   ]
  },
  {
   "cell_type": "code",
   "execution_count": 2,
   "metadata": {},
   "outputs": [],
   "source": [
    "df = pd.read_csv('botswana.tsv', delimiter='\\t')"
   ]
  },
  {
   "cell_type": "code",
   "execution_count": 3,
   "metadata": {},
   "outputs": [
    {
     "data": {
      "text/html": [
       "<div>\n",
       "<style scoped>\n",
       "    .dataframe tbody tr th:only-of-type {\n",
       "        vertical-align: middle;\n",
       "    }\n",
       "\n",
       "    .dataframe tbody tr th {\n",
       "        vertical-align: top;\n",
       "    }\n",
       "\n",
       "    .dataframe thead th {\n",
       "        text-align: right;\n",
       "    }\n",
       "</style>\n",
       "<table border=\"1\" class=\"dataframe\">\n",
       "  <thead>\n",
       "    <tr style=\"text-align: right;\">\n",
       "      <th></th>\n",
       "      <th>ceb</th>\n",
       "      <th>age</th>\n",
       "      <th>educ</th>\n",
       "      <th>religion</th>\n",
       "      <th>idlnchld</th>\n",
       "      <th>knowmeth</th>\n",
       "      <th>usemeth</th>\n",
       "      <th>evermarr</th>\n",
       "      <th>agefm</th>\n",
       "      <th>heduc</th>\n",
       "      <th>urban</th>\n",
       "      <th>electric</th>\n",
       "      <th>radio</th>\n",
       "      <th>tv</th>\n",
       "      <th>bicycle</th>\n",
       "    </tr>\n",
       "  </thead>\n",
       "  <tbody>\n",
       "    <tr>\n",
       "      <th>0</th>\n",
       "      <td>0</td>\n",
       "      <td>18</td>\n",
       "      <td>10</td>\n",
       "      <td>catholic</td>\n",
       "      <td>4.0</td>\n",
       "      <td>1.0</td>\n",
       "      <td>1.0</td>\n",
       "      <td>0</td>\n",
       "      <td>NaN</td>\n",
       "      <td>NaN</td>\n",
       "      <td>1</td>\n",
       "      <td>1.0</td>\n",
       "      <td>1.0</td>\n",
       "      <td>1.0</td>\n",
       "      <td>1.0</td>\n",
       "    </tr>\n",
       "    <tr>\n",
       "      <th>1</th>\n",
       "      <td>2</td>\n",
       "      <td>43</td>\n",
       "      <td>11</td>\n",
       "      <td>protestant</td>\n",
       "      <td>2.0</td>\n",
       "      <td>1.0</td>\n",
       "      <td>1.0</td>\n",
       "      <td>1</td>\n",
       "      <td>20.0</td>\n",
       "      <td>14.0</td>\n",
       "      <td>1</td>\n",
       "      <td>1.0</td>\n",
       "      <td>1.0</td>\n",
       "      <td>1.0</td>\n",
       "      <td>1.0</td>\n",
       "    </tr>\n",
       "    <tr>\n",
       "      <th>2</th>\n",
       "      <td>0</td>\n",
       "      <td>49</td>\n",
       "      <td>4</td>\n",
       "      <td>spirit</td>\n",
       "      <td>4.0</td>\n",
       "      <td>1.0</td>\n",
       "      <td>0.0</td>\n",
       "      <td>1</td>\n",
       "      <td>22.0</td>\n",
       "      <td>1.0</td>\n",
       "      <td>1</td>\n",
       "      <td>1.0</td>\n",
       "      <td>1.0</td>\n",
       "      <td>0.0</td>\n",
       "      <td>0.0</td>\n",
       "    </tr>\n",
       "    <tr>\n",
       "      <th>3</th>\n",
       "      <td>0</td>\n",
       "      <td>24</td>\n",
       "      <td>12</td>\n",
       "      <td>other</td>\n",
       "      <td>2.0</td>\n",
       "      <td>1.0</td>\n",
       "      <td>0.0</td>\n",
       "      <td>0</td>\n",
       "      <td>NaN</td>\n",
       "      <td>NaN</td>\n",
       "      <td>1</td>\n",
       "      <td>1.0</td>\n",
       "      <td>1.0</td>\n",
       "      <td>1.0</td>\n",
       "      <td>1.0</td>\n",
       "    </tr>\n",
       "    <tr>\n",
       "      <th>4</th>\n",
       "      <td>3</td>\n",
       "      <td>32</td>\n",
       "      <td>13</td>\n",
       "      <td>other</td>\n",
       "      <td>3.0</td>\n",
       "      <td>1.0</td>\n",
       "      <td>1.0</td>\n",
       "      <td>1</td>\n",
       "      <td>24.0</td>\n",
       "      <td>12.0</td>\n",
       "      <td>1</td>\n",
       "      <td>1.0</td>\n",
       "      <td>1.0</td>\n",
       "      <td>1.0</td>\n",
       "      <td>1.0</td>\n",
       "    </tr>\n",
       "  </tbody>\n",
       "</table>\n",
       "</div>"
      ],
      "text/plain": [
       "   ceb  age  educ    religion  idlnchld  knowmeth  usemeth  evermarr  agefm  \\\n",
       "0    0   18    10    catholic       4.0       1.0      1.0         0    NaN   \n",
       "1    2   43    11  protestant       2.0       1.0      1.0         1   20.0   \n",
       "2    0   49     4      spirit       4.0       1.0      0.0         1   22.0   \n",
       "3    0   24    12       other       2.0       1.0      0.0         0    NaN   \n",
       "4    3   32    13       other       3.0       1.0      1.0         1   24.0   \n",
       "\n",
       "   heduc  urban  electric  radio   tv  bicycle  \n",
       "0    NaN      1       1.0    1.0  1.0      1.0  \n",
       "1   14.0      1       1.0    1.0  1.0      1.0  \n",
       "2    1.0      1       1.0    1.0  0.0      0.0  \n",
       "3    NaN      1       1.0    1.0  1.0      1.0  \n",
       "4   12.0      1       1.0    1.0  1.0      1.0  "
      ]
     },
     "execution_count": 3,
     "metadata": {},
     "output_type": "execute_result"
    }
   ],
   "source": [
    "df.head()"
   ]
  },
  {
   "cell_type": "code",
   "execution_count": 4,
   "metadata": {},
   "outputs": [
    {
     "data": {
      "text/plain": [
       "(4,)"
      ]
     },
     "execution_count": 4,
     "metadata": {},
     "output_type": "execute_result"
    }
   ],
   "source": [
    "df['religion'].unique().shape"
   ]
  },
  {
   "cell_type": "code",
   "execution_count": 5,
   "metadata": {},
   "outputs": [
    {
     "data": {
      "text/plain": [
       "(1834, 15)"
      ]
     },
     "execution_count": 5,
     "metadata": {},
     "output_type": "execute_result"
    }
   ],
   "source": [
    "df.dropna().shape"
   ]
  },
  {
   "cell_type": "code",
   "execution_count": 6,
   "metadata": {},
   "outputs": [],
   "source": [
    "def nevermar(row):\n",
    "    if np.isnan(row['agefm']): \n",
    "        return 1 \n",
    "    else: return 0"
   ]
  },
  {
   "cell_type": "code",
   "execution_count": 7,
   "metadata": {},
   "outputs": [],
   "source": [
    "df['nevermar'] = df.apply(lambda row: nevermar(row), axis=1)"
   ]
  },
  {
   "cell_type": "code",
   "execution_count": 8,
   "metadata": {},
   "outputs": [],
   "source": [
    "df.drop(columns=['evermarr'], inplace=True)"
   ]
  },
  {
   "cell_type": "code",
   "execution_count": 9,
   "metadata": {},
   "outputs": [],
   "source": [
    "df['agefm'].fillna(0, inplace=True) #???"
   ]
  },
  {
   "cell_type": "code",
   "execution_count": 10,
   "metadata": {},
   "outputs": [
    {
     "data": {
      "text/plain": [
       "array([False])"
      ]
     },
     "execution_count": 10,
     "metadata": {},
     "output_type": "execute_result"
    }
   ],
   "source": [
    "df['agefm'].isna().unique()"
   ]
  },
  {
   "cell_type": "code",
   "execution_count": 11,
   "metadata": {},
   "outputs": [],
   "source": [
    "def heduc(row):\n",
    "    if row['nevermar'] == 1:\n",
    "        return -1\n",
    "    else:\n",
    "        return row['heduc']"
   ]
  },
  {
   "cell_type": "code",
   "execution_count": 12,
   "metadata": {},
   "outputs": [],
   "source": [
    "df['heduc'] = df.apply(lambda row: heduc(row), axis=1)"
   ]
  },
  {
   "cell_type": "code",
   "execution_count": 13,
   "metadata": {},
   "outputs": [
    {
     "data": {
      "text/plain": [
       "-1.0     2282\n",
       " 0.0      692\n",
       " 7.0      396\n",
       " 10.0     210\n",
       " NaN      123\n",
       " 6.0      102\n",
       " 12.0      99\n",
       " 4.0       73\n",
       " 3.0       64\n",
       " 5.0       62\n",
       " 2.0       47\n",
       " 9.0       35\n",
       " 15.0      35\n",
       " 14.0      29\n",
       " 16.0      26\n",
       " 1.0       25\n",
       " 17.0      17\n",
       " 8.0       17\n",
       " 11.0       9\n",
       " 13.0       8\n",
       " 18.0       4\n",
       " 19.0       4\n",
       " 20.0       2\n",
       "Name: heduc, dtype: int64"
      ]
     },
     "execution_count": 13,
     "metadata": {},
     "output_type": "execute_result"
    }
   ],
   "source": [
    "df['heduc'].value_counts(dropna=False)"
   ]
  },
  {
   "cell_type": "code",
   "execution_count": 31,
   "metadata": {},
   "outputs": [],
   "source": [
    "dfd = df.copy()"
   ]
  },
  {
   "cell_type": "code",
   "execution_count": 38,
   "metadata": {},
   "outputs": [],
   "source": [
    "dfd['idlnchld_noans'] = dfd['idlnchld'].isna().astype(int)\n",
    "dfd['heduc_noans'] = dfd['heduc'].isna().astype(int)\n",
    "dfd['idlnusemeth_noanschld_noans'] = dfd['usemeth'].isna().astype(int)"
   ]
  },
  {
   "cell_type": "code",
   "execution_count": 43,
   "metadata": {},
   "outputs": [],
   "source": [
    "dfd['idlnchld'].fillna(-1, inplace=True)"
   ]
  },
  {
   "cell_type": "code",
   "execution_count": 47,
   "metadata": {},
   "outputs": [],
   "source": [
    "dfd['heduc'].fillna(-2, inplace=True)"
   ]
  },
  {
   "cell_type": "code",
   "execution_count": 48,
   "metadata": {},
   "outputs": [],
   "source": [
    "dfd['usemeth'].fillna(-1, inplace=True)"
   ]
  },
  {
   "cell_type": "code",
   "execution_count": 50,
   "metadata": {},
   "outputs": [
    {
     "data": {
      "text/plain": [
       "array([False])"
      ]
     },
     "execution_count": 50,
     "metadata": {},
     "output_type": "execute_result"
    }
   ],
   "source": [
    "dfd['usemeth'].isna().unique()"
   ]
  },
  {
   "cell_type": "code",
   "execution_count": 51,
   "metadata": {},
   "outputs": [],
   "source": [
    "dfd.dropna(inplace=True)"
   ]
  },
  {
   "cell_type": "code",
   "execution_count": 52,
   "metadata": {},
   "outputs": [
    {
     "data": {
      "text/plain": [
       "78264"
      ]
     },
     "execution_count": 52,
     "metadata": {},
     "output_type": "execute_result"
    }
   ],
   "source": [
    "dfd.index.shape[0] * dfd.columns.shape[0]"
   ]
  },
  {
   "cell_type": "markdown",
   "metadata": {},
   "source": [
    "**Regression**"
   ]
  },
  {
   "cell_type": "code",
   "execution_count": 53,
   "metadata": {},
   "outputs": [],
   "source": [
    "import statsmodels.formula.api as smf"
   ]
  },
  {
   "cell_type": "code",
   "execution_count": 55,
   "metadata": {},
   "outputs": [
    {
     "data": {
      "text/plain": [
       "Index(['ceb', 'age', 'educ', 'religion', 'idlnchld', 'knowmeth', 'usemeth',\n",
       "       'agefm', 'heduc', 'urban', 'electric', 'radio', 'tv', 'bicycle',\n",
       "       'nevermar', 'idlnchld_noans', 'heduc_noans',\n",
       "       'idlnusemeth_noanschld_noans'],\n",
       "      dtype='object')"
      ]
     },
     "execution_count": 55,
     "metadata": {},
     "output_type": "execute_result"
    }
   ],
   "source": [
    "dfd.columns"
   ]
  },
  {
   "cell_type": "code",
   "execution_count": 85,
   "metadata": {},
   "outputs": [],
   "source": [
    "formula_str = 'ceb ~'\n",
    "\n",
    "for col in dfd.columns[1:]:\n",
    "    if col == 'age':\n",
    "        formula_str += ' '\n",
    "    else:\n",
    "        formula_str += ' + ' \n",
    "    formula_str += col"
   ]
  },
  {
   "cell_type": "code",
   "execution_count": 86,
   "metadata": {},
   "outputs": [
    {
     "data": {
      "text/plain": [
       "'ceb ~ age + educ + religion + idlnchld + knowmeth + usemeth + agefm + heduc + urban + electric + radio + tv + bicycle + nevermar + idlnchld_noans + heduc_noans + idlnusemeth_noanschld_noans'"
      ]
     },
     "execution_count": 86,
     "metadata": {},
     "output_type": "execute_result"
    }
   ],
   "source": [
    "formula_str"
   ]
  },
  {
   "cell_type": "code",
   "execution_count": 87,
   "metadata": {},
   "outputs": [],
   "source": [
    "m1 = smf.ols(formula_str, data = dfd)"
   ]
  },
  {
   "cell_type": "code",
   "execution_count": 81,
   "metadata": {},
   "outputs": [],
   "source": [
    "fitted = m1.fit()"
   ]
  },
  {
   "cell_type": "code",
   "execution_count": 82,
   "metadata": {},
   "outputs": [
    {
     "data": {
      "text/html": [
       "<table class=\"simpletable\">\n",
       "<caption>OLS Regression Results</caption>\n",
       "<tr>\n",
       "  <th>Dep. Variable:</th>           <td>ceb</td>       <th>  R-squared:         </th> <td>   0.644</td> \n",
       "</tr>\n",
       "<tr>\n",
       "  <th>Model:</th>                   <td>OLS</td>       <th>  Adj. R-squared:    </th> <td>   0.643</td> \n",
       "</tr>\n",
       "<tr>\n",
       "  <th>Method:</th>             <td>Least Squares</td>  <th>  F-statistic:       </th> <td>   412.5</td> \n",
       "</tr>\n",
       "<tr>\n",
       "  <th>Date:</th>             <td>Tue, 03 Dec 2019</td> <th>  Prob (F-statistic):</th>  <td>  0.00</td>  \n",
       "</tr>\n",
       "<tr>\n",
       "  <th>Time:</th>                 <td>11:49:30</td>     <th>  Log-Likelihood:    </th> <td> -7732.1</td> \n",
       "</tr>\n",
       "<tr>\n",
       "  <th>No. Observations:</th>      <td>  4348</td>      <th>  AIC:               </th> <td>1.550e+04</td>\n",
       "</tr>\n",
       "<tr>\n",
       "  <th>Df Residuals:</th>          <td>  4328</td>      <th>  BIC:               </th> <td>1.563e+04</td>\n",
       "</tr>\n",
       "<tr>\n",
       "  <th>Df Model:</th>              <td>    19</td>      <th>                     </th>     <td> </td>    \n",
       "</tr>\n",
       "<tr>\n",
       "  <th>Covariance Type:</th>      <td>nonrobust</td>    <th>                     </th>     <td> </td>    \n",
       "</tr>\n",
       "</table>\n",
       "<table class=\"simpletable\">\n",
       "<tr>\n",
       "               <td></td>                  <th>coef</th>     <th>std err</th>      <th>t</th>      <th>P>|t|</th>  <th>[0.025</th>    <th>0.975]</th>  \n",
       "</tr>\n",
       "<tr>\n",
       "  <th>Intercept</th>                   <td>   -1.0263</td> <td>    0.212</td> <td>   -4.835</td> <td> 0.000</td> <td>   -1.443</td> <td>   -0.610</td>\n",
       "</tr>\n",
       "<tr>\n",
       "  <th>religion[T.other]</th>           <td>   -0.0830</td> <td>    0.083</td> <td>   -1.001</td> <td> 0.317</td> <td>   -0.245</td> <td>    0.080</td>\n",
       "</tr>\n",
       "<tr>\n",
       "  <th>religion[T.protestant]</th>      <td>   -0.0149</td> <td>    0.082</td> <td>   -0.181</td> <td> 0.857</td> <td>   -0.176</td> <td>    0.146</td>\n",
       "</tr>\n",
       "<tr>\n",
       "  <th>religion[T.spirit]</th>          <td>   -0.0191</td> <td>    0.077</td> <td>   -0.248</td> <td> 0.804</td> <td>   -0.171</td> <td>    0.132</td>\n",
       "</tr>\n",
       "<tr>\n",
       "  <th>age</th>                         <td>    0.1703</td> <td>    0.003</td> <td>   51.891</td> <td> 0.000</td> <td>    0.164</td> <td>    0.177</td>\n",
       "</tr>\n",
       "<tr>\n",
       "  <th>educ</th>                        <td>   -0.0724</td> <td>    0.007</td> <td>   -9.843</td> <td> 0.000</td> <td>   -0.087</td> <td>   -0.058</td>\n",
       "</tr>\n",
       "<tr>\n",
       "  <th>idlnchld</th>                    <td>    0.0760</td> <td>    0.011</td> <td>    6.923</td> <td> 0.000</td> <td>    0.054</td> <td>    0.098</td>\n",
       "</tr>\n",
       "<tr>\n",
       "  <th>knowmeth</th>                    <td>    0.5564</td> <td>    0.121</td> <td>    4.580</td> <td> 0.000</td> <td>    0.318</td> <td>    0.795</td>\n",
       "</tr>\n",
       "<tr>\n",
       "  <th>usemeth</th>                     <td>    0.6473</td> <td>    0.048</td> <td>   13.424</td> <td> 0.000</td> <td>    0.553</td> <td>    0.742</td>\n",
       "</tr>\n",
       "<tr>\n",
       "  <th>agefm</th>                       <td>   -0.0604</td> <td>    0.007</td> <td>   -9.213</td> <td> 0.000</td> <td>   -0.073</td> <td>   -0.048</td>\n",
       "</tr>\n",
       "<tr>\n",
       "  <th>heduc</th>                       <td>   -0.0551</td> <td>    0.008</td> <td>   -6.838</td> <td> 0.000</td> <td>   -0.071</td> <td>   -0.039</td>\n",
       "</tr>\n",
       "<tr>\n",
       "  <th>urban</th>                       <td>   -0.2137</td> <td>    0.047</td> <td>   -4.527</td> <td> 0.000</td> <td>   -0.306</td> <td>   -0.121</td>\n",
       "</tr>\n",
       "<tr>\n",
       "  <th>electric</th>                    <td>   -0.2685</td> <td>    0.077</td> <td>   -3.479</td> <td> 0.001</td> <td>   -0.420</td> <td>   -0.117</td>\n",
       "</tr>\n",
       "<tr>\n",
       "  <th>radio</th>                       <td>   -0.0235</td> <td>    0.051</td> <td>   -0.461</td> <td> 0.645</td> <td>   -0.123</td> <td>    0.076</td>\n",
       "</tr>\n",
       "<tr>\n",
       "  <th>tv</th>                          <td>   -0.1451</td> <td>    0.093</td> <td>   -1.566</td> <td> 0.118</td> <td>   -0.327</td> <td>    0.037</td>\n",
       "</tr>\n",
       "<tr>\n",
       "  <th>bicycle</th>                     <td>    0.2139</td> <td>    0.050</td> <td>    4.260</td> <td> 0.000</td> <td>    0.115</td> <td>    0.312</td>\n",
       "</tr>\n",
       "<tr>\n",
       "  <th>nevermar</th>                    <td>   -2.2393</td> <td>    0.148</td> <td>  -15.143</td> <td> 0.000</td> <td>   -2.529</td> <td>   -1.949</td>\n",
       "</tr>\n",
       "<tr>\n",
       "  <th>idlnchld_noans</th>              <td>    0.6539</td> <td>    0.153</td> <td>    4.286</td> <td> 0.000</td> <td>    0.355</td> <td>    0.953</td>\n",
       "</tr>\n",
       "<tr>\n",
       "  <th>heduc_noans</th>                 <td>   -0.8724</td> <td>    0.145</td> <td>   -6.026</td> <td> 0.000</td> <td>   -1.156</td> <td>   -0.589</td>\n",
       "</tr>\n",
       "<tr>\n",
       "  <th>idlnusemeth_noanschld_noans</th> <td>    0.7652</td> <td>    0.196</td> <td>    3.910</td> <td> 0.000</td> <td>    0.382</td> <td>    1.149</td>\n",
       "</tr>\n",
       "</table>\n",
       "<table class=\"simpletable\">\n",
       "<tr>\n",
       "  <th>Omnibus:</th>       <td>224.411</td> <th>  Durbin-Watson:     </th> <td>   1.887</td> \n",
       "</tr>\n",
       "<tr>\n",
       "  <th>Prob(Omnibus):</th> <td> 0.000</td>  <th>  Jarque-Bera (JB):  </th> <td> 859.014</td> \n",
       "</tr>\n",
       "<tr>\n",
       "  <th>Skew:</th>          <td> 0.003</td>  <th>  Prob(JB):          </th> <td>2.93e-187</td>\n",
       "</tr>\n",
       "<tr>\n",
       "  <th>Kurtosis:</th>      <td> 5.178</td>  <th>  Cond. No.          </th> <td>    361.</td> \n",
       "</tr>\n",
       "</table><br/><br/>Warnings:<br/>[1] Standard Errors assume that the covariance matrix of the errors is correctly specified."
      ],
      "text/plain": [
       "<class 'statsmodels.iolib.summary.Summary'>\n",
       "\"\"\"\n",
       "                            OLS Regression Results                            \n",
       "==============================================================================\n",
       "Dep. Variable:                    ceb   R-squared:                       0.644\n",
       "Model:                            OLS   Adj. R-squared:                  0.643\n",
       "Method:                 Least Squares   F-statistic:                     412.5\n",
       "Date:                Tue, 03 Dec 2019   Prob (F-statistic):               0.00\n",
       "Time:                        11:49:30   Log-Likelihood:                -7732.1\n",
       "No. Observations:                4348   AIC:                         1.550e+04\n",
       "Df Residuals:                    4328   BIC:                         1.563e+04\n",
       "Df Model:                          19                                         \n",
       "Covariance Type:            nonrobust                                         \n",
       "===============================================================================================\n",
       "                                  coef    std err          t      P>|t|      [0.025      0.975]\n",
       "-----------------------------------------------------------------------------------------------\n",
       "Intercept                      -1.0263      0.212     -4.835      0.000      -1.443      -0.610\n",
       "religion[T.other]              -0.0830      0.083     -1.001      0.317      -0.245       0.080\n",
       "religion[T.protestant]         -0.0149      0.082     -0.181      0.857      -0.176       0.146\n",
       "religion[T.spirit]             -0.0191      0.077     -0.248      0.804      -0.171       0.132\n",
       "age                             0.1703      0.003     51.891      0.000       0.164       0.177\n",
       "educ                           -0.0724      0.007     -9.843      0.000      -0.087      -0.058\n",
       "idlnchld                        0.0760      0.011      6.923      0.000       0.054       0.098\n",
       "knowmeth                        0.5564      0.121      4.580      0.000       0.318       0.795\n",
       "usemeth                         0.6473      0.048     13.424      0.000       0.553       0.742\n",
       "agefm                          -0.0604      0.007     -9.213      0.000      -0.073      -0.048\n",
       "heduc                          -0.0551      0.008     -6.838      0.000      -0.071      -0.039\n",
       "urban                          -0.2137      0.047     -4.527      0.000      -0.306      -0.121\n",
       "electric                       -0.2685      0.077     -3.479      0.001      -0.420      -0.117\n",
       "radio                          -0.0235      0.051     -0.461      0.645      -0.123       0.076\n",
       "tv                             -0.1451      0.093     -1.566      0.118      -0.327       0.037\n",
       "bicycle                         0.2139      0.050      4.260      0.000       0.115       0.312\n",
       "nevermar                       -2.2393      0.148    -15.143      0.000      -2.529      -1.949\n",
       "idlnchld_noans                  0.6539      0.153      4.286      0.000       0.355       0.953\n",
       "heduc_noans                    -0.8724      0.145     -6.026      0.000      -1.156      -0.589\n",
       "idlnusemeth_noanschld_noans     0.7652      0.196      3.910      0.000       0.382       1.149\n",
       "==============================================================================\n",
       "Omnibus:                      224.411   Durbin-Watson:                   1.887\n",
       "Prob(Omnibus):                  0.000   Jarque-Bera (JB):              859.014\n",
       "Skew:                           0.003   Prob(JB):                    2.93e-187\n",
       "Kurtosis:                       5.178   Cond. No.                         361.\n",
       "==============================================================================\n",
       "\n",
       "Warnings:\n",
       "[1] Standard Errors assume that the covariance matrix of the errors is correctly specified.\n",
       "\"\"\""
      ]
     },
     "execution_count": 82,
     "metadata": {},
     "output_type": "execute_result"
    }
   ],
   "source": [
    "fitted.summary()"
   ]
  },
  {
   "cell_type": "code",
   "execution_count": 88,
   "metadata": {},
   "outputs": [],
   "source": [
    "import statsmodels.stats.api as sms"
   ]
  },
  {
   "cell_type": "code",
   "execution_count": 93,
   "metadata": {},
   "outputs": [
    {
     "name": "stdout",
     "output_type": "stream",
     "text": [
      "Breusch-Pagan test: p=0.000000\n"
     ]
    }
   ],
   "source": [
    "print('Breusch-Pagan test: p=%f' % sms.het_breuschpagan(fitted.resid, fitted.model.exog)[1])"
   ]
  },
  {
   "cell_type": "markdown",
   "metadata": {},
   "source": [
    "**Model without radio, religion, tv**"
   ]
  },
  {
   "cell_type": "code",
   "execution_count": 94,
   "metadata": {},
   "outputs": [],
   "source": [
    "formula_str2 = 'ceb ~ age + educ + idlnchld + knowmeth + usemeth + agefm + heduc + urban + electric + bicycle + nevermar + idlnchld_noans + heduc_noans + idlnusemeth_noanschld_noans'"
   ]
  },
  {
   "cell_type": "code",
   "execution_count": 95,
   "metadata": {},
   "outputs": [],
   "source": [
    "m2 = smf.ols(formula_str2, data = dfd)"
   ]
  },
  {
   "cell_type": "code",
   "execution_count": 96,
   "metadata": {},
   "outputs": [],
   "source": [
    "fitted2 = m2.fit()"
   ]
  },
  {
   "cell_type": "code",
   "execution_count": 97,
   "metadata": {},
   "outputs": [
    {
     "data": {
      "text/html": [
       "<table class=\"simpletable\">\n",
       "<caption>OLS Regression Results</caption>\n",
       "<tr>\n",
       "  <th>Dep. Variable:</th>           <td>ceb</td>       <th>  R-squared:         </th> <td>   0.644</td> \n",
       "</tr>\n",
       "<tr>\n",
       "  <th>Model:</th>                   <td>OLS</td>       <th>  Adj. R-squared:    </th> <td>   0.643</td> \n",
       "</tr>\n",
       "<tr>\n",
       "  <th>Method:</th>             <td>Least Squares</td>  <th>  F-statistic:       </th> <td>   559.5</td> \n",
       "</tr>\n",
       "<tr>\n",
       "  <th>Date:</th>             <td>Wed, 04 Dec 2019</td> <th>  Prob (F-statistic):</th>  <td>  0.00</td>  \n",
       "</tr>\n",
       "<tr>\n",
       "  <th>Time:</th>                 <td>23:13:54</td>     <th>  Log-Likelihood:    </th> <td> -7734.5</td> \n",
       "</tr>\n",
       "<tr>\n",
       "  <th>No. Observations:</th>      <td>  4348</td>      <th>  AIC:               </th> <td>1.550e+04</td>\n",
       "</tr>\n",
       "<tr>\n",
       "  <th>Df Residuals:</th>          <td>  4333</td>      <th>  BIC:               </th> <td>1.559e+04</td>\n",
       "</tr>\n",
       "<tr>\n",
       "  <th>Df Model:</th>              <td>    14</td>      <th>                     </th>     <td> </td>    \n",
       "</tr>\n",
       "<tr>\n",
       "  <th>Covariance Type:</th>      <td>nonrobust</td>    <th>                     </th>     <td> </td>    \n",
       "</tr>\n",
       "</table>\n",
       "<table class=\"simpletable\">\n",
       "<tr>\n",
       "               <td></td>                  <th>coef</th>     <th>std err</th>      <th>t</th>      <th>P>|t|</th>  <th>[0.025</th>    <th>0.975]</th>  \n",
       "</tr>\n",
       "<tr>\n",
       "  <th>Intercept</th>                   <td>   -1.0698</td> <td>    0.198</td> <td>   -5.393</td> <td> 0.000</td> <td>   -1.459</td> <td>   -0.681</td>\n",
       "</tr>\n",
       "<tr>\n",
       "  <th>age</th>                         <td>    0.1702</td> <td>    0.003</td> <td>   52.271</td> <td> 0.000</td> <td>    0.164</td> <td>    0.177</td>\n",
       "</tr>\n",
       "<tr>\n",
       "  <th>educ</th>                        <td>   -0.0729</td> <td>    0.007</td> <td>  -10.285</td> <td> 0.000</td> <td>   -0.087</td> <td>   -0.059</td>\n",
       "</tr>\n",
       "<tr>\n",
       "  <th>idlnchld</th>                    <td>    0.0770</td> <td>    0.011</td> <td>    7.042</td> <td> 0.000</td> <td>    0.056</td> <td>    0.098</td>\n",
       "</tr>\n",
       "<tr>\n",
       "  <th>knowmeth</th>                    <td>    0.5610</td> <td>    0.121</td> <td>    4.628</td> <td> 0.000</td> <td>    0.323</td> <td>    0.799</td>\n",
       "</tr>\n",
       "<tr>\n",
       "  <th>usemeth</th>                     <td>    0.6516</td> <td>    0.048</td> <td>   13.537</td> <td> 0.000</td> <td>    0.557</td> <td>    0.746</td>\n",
       "</tr>\n",
       "<tr>\n",
       "  <th>agefm</th>                       <td>   -0.0606</td> <td>    0.007</td> <td>   -9.240</td> <td> 0.000</td> <td>   -0.073</td> <td>   -0.048</td>\n",
       "</tr>\n",
       "<tr>\n",
       "  <th>heduc</th>                       <td>   -0.0573</td> <td>    0.008</td> <td>   -7.186</td> <td> 0.000</td> <td>   -0.073</td> <td>   -0.042</td>\n",
       "</tr>\n",
       "<tr>\n",
       "  <th>urban</th>                       <td>   -0.2190</td> <td>    0.047</td> <td>   -4.682</td> <td> 0.000</td> <td>   -0.311</td> <td>   -0.127</td>\n",
       "</tr>\n",
       "<tr>\n",
       "  <th>electric</th>                    <td>   -0.3207</td> <td>    0.070</td> <td>   -4.584</td> <td> 0.000</td> <td>   -0.458</td> <td>   -0.184</td>\n",
       "</tr>\n",
       "<tr>\n",
       "  <th>bicycle</th>                     <td>    0.2046</td> <td>    0.049</td> <td>    4.154</td> <td> 0.000</td> <td>    0.108</td> <td>    0.301</td>\n",
       "</tr>\n",
       "<tr>\n",
       "  <th>nevermar</th>                    <td>   -2.2501</td> <td>    0.148</td> <td>  -15.231</td> <td> 0.000</td> <td>   -2.540</td> <td>   -1.961</td>\n",
       "</tr>\n",
       "<tr>\n",
       "  <th>idlnchld_noans</th>              <td>    0.6565</td> <td>    0.152</td> <td>    4.310</td> <td> 0.000</td> <td>    0.358</td> <td>    0.955</td>\n",
       "</tr>\n",
       "<tr>\n",
       "  <th>heduc_noans</th>                 <td>   -0.8853</td> <td>    0.145</td> <td>   -6.122</td> <td> 0.000</td> <td>   -1.169</td> <td>   -0.602</td>\n",
       "</tr>\n",
       "<tr>\n",
       "  <th>idlnusemeth_noanschld_noans</th> <td>    0.7732</td> <td>    0.196</td> <td>    3.955</td> <td> 0.000</td> <td>    0.390</td> <td>    1.156</td>\n",
       "</tr>\n",
       "</table>\n",
       "<table class=\"simpletable\">\n",
       "<tr>\n",
       "  <th>Omnibus:</th>       <td>224.096</td> <th>  Durbin-Watson:     </th> <td>   1.886</td> \n",
       "</tr>\n",
       "<tr>\n",
       "  <th>Prob(Omnibus):</th> <td> 0.000</td>  <th>  Jarque-Bera (JB):  </th> <td> 856.760</td> \n",
       "</tr>\n",
       "<tr>\n",
       "  <th>Skew:</th>          <td> 0.004</td>  <th>  Prob(JB):          </th> <td>9.06e-187</td>\n",
       "</tr>\n",
       "<tr>\n",
       "  <th>Kurtosis:</th>      <td> 5.175</td>  <th>  Cond. No.          </th> <td>    345.</td> \n",
       "</tr>\n",
       "</table><br/><br/>Warnings:<br/>[1] Standard Errors assume that the covariance matrix of the errors is correctly specified."
      ],
      "text/plain": [
       "<class 'statsmodels.iolib.summary.Summary'>\n",
       "\"\"\"\n",
       "                            OLS Regression Results                            \n",
       "==============================================================================\n",
       "Dep. Variable:                    ceb   R-squared:                       0.644\n",
       "Model:                            OLS   Adj. R-squared:                  0.643\n",
       "Method:                 Least Squares   F-statistic:                     559.5\n",
       "Date:                Wed, 04 Dec 2019   Prob (F-statistic):               0.00\n",
       "Time:                        23:13:54   Log-Likelihood:                -7734.5\n",
       "No. Observations:                4348   AIC:                         1.550e+04\n",
       "Df Residuals:                    4333   BIC:                         1.559e+04\n",
       "Df Model:                          14                                         \n",
       "Covariance Type:            nonrobust                                         \n",
       "===============================================================================================\n",
       "                                  coef    std err          t      P>|t|      [0.025      0.975]\n",
       "-----------------------------------------------------------------------------------------------\n",
       "Intercept                      -1.0698      0.198     -5.393      0.000      -1.459      -0.681\n",
       "age                             0.1702      0.003     52.271      0.000       0.164       0.177\n",
       "educ                           -0.0729      0.007    -10.285      0.000      -0.087      -0.059\n",
       "idlnchld                        0.0770      0.011      7.042      0.000       0.056       0.098\n",
       "knowmeth                        0.5610      0.121      4.628      0.000       0.323       0.799\n",
       "usemeth                         0.6516      0.048     13.537      0.000       0.557       0.746\n",
       "agefm                          -0.0606      0.007     -9.240      0.000      -0.073      -0.048\n",
       "heduc                          -0.0573      0.008     -7.186      0.000      -0.073      -0.042\n",
       "urban                          -0.2190      0.047     -4.682      0.000      -0.311      -0.127\n",
       "electric                       -0.3207      0.070     -4.584      0.000      -0.458      -0.184\n",
       "bicycle                         0.2046      0.049      4.154      0.000       0.108       0.301\n",
       "nevermar                       -2.2501      0.148    -15.231      0.000      -2.540      -1.961\n",
       "idlnchld_noans                  0.6565      0.152      4.310      0.000       0.358       0.955\n",
       "heduc_noans                    -0.8853      0.145     -6.122      0.000      -1.169      -0.602\n",
       "idlnusemeth_noanschld_noans     0.7732      0.196      3.955      0.000       0.390       1.156\n",
       "==============================================================================\n",
       "Omnibus:                      224.096   Durbin-Watson:                   1.886\n",
       "Prob(Omnibus):                  0.000   Jarque-Bera (JB):              856.760\n",
       "Skew:                           0.004   Prob(JB):                    9.06e-187\n",
       "Kurtosis:                       5.175   Cond. No.                         345.\n",
       "==============================================================================\n",
       "\n",
       "Warnings:\n",
       "[1] Standard Errors assume that the covariance matrix of the errors is correctly specified.\n",
       "\"\"\""
      ]
     },
     "execution_count": 97,
     "metadata": {},
     "output_type": "execute_result"
    }
   ],
   "source": [
    "fitted2.summary()"
   ]
  },
  {
   "cell_type": "code",
   "execution_count": 103,
   "metadata": {},
   "outputs": [
    {
     "data": {
      "text/plain": [
       "0.4672"
      ]
     },
     "execution_count": 103,
     "metadata": {},
     "output_type": "execute_result"
    }
   ],
   "source": [
    "round(fitted.compare_f_test(fitted2)[1],4)\n",
    "#fitted.compare_f_test(fitted2)"
   ]
  },
  {
   "cell_type": "markdown",
   "metadata": {},
   "source": [
    "высокий уровень значимости -> оставляем модель без признаков"
   ]
  },
  {
   "cell_type": "markdown",
   "metadata": {},
   "source": [
    "**Model without usemeth**"
   ]
  },
  {
   "cell_type": "code",
   "execution_count": 117,
   "metadata": {},
   "outputs": [],
   "source": [
    "formula_str3 = 'ceb ~ age + educ + idlnchld + knowmeth + agefm + heduc + urban + electric + bicycle + nevermar + idlnchld_noans + heduc_noans'"
   ]
  },
  {
   "cell_type": "code",
   "execution_count": 118,
   "metadata": {},
   "outputs": [],
   "source": [
    "m3 = smf.ols(formula_str3, data = dfd)"
   ]
  },
  {
   "cell_type": "code",
   "execution_count": 119,
   "metadata": {},
   "outputs": [],
   "source": [
    "fitted3 = m3.fit()"
   ]
  },
  {
   "cell_type": "code",
   "execution_count": 124,
   "metadata": {},
   "outputs": [],
   "source": [
    "#fitted3.summary()"
   ]
  },
  {
   "cell_type": "code",
   "execution_count": 121,
   "metadata": {},
   "outputs": [
    {
     "data": {
      "text/plain": [
       "3.155200948040263e-40"
      ]
     },
     "execution_count": 121,
     "metadata": {},
     "output_type": "execute_result"
    }
   ],
   "source": [
    "#print(\"F=%f, p=%f, k1=%f\" % fitted2.compare_f_test(fitted3))\n",
    "fitted2.compare_f_test(fitted3)[1]"
   ]
  },
  {
   "cell_type": "markdown",
   "metadata": {},
   "source": [
    "низкий уровень значимости -> оставляем модель fitted2"
   ]
  },
  {
   "cell_type": "code",
   "execution_count": 127,
   "metadata": {},
   "outputs": [
    {
     "name": "stdout",
     "output_type": "stream",
     "text": [
      "Breusch-Pagan test: p=0.000000\n"
     ]
    }
   ],
   "source": [
    "print('Breusch-Pagan test: p=%f' % sms.het_breuschpagan(fitted2.resid, fitted2.model.exog)[1])"
   ]
  },
  {
   "cell_type": "markdown",
   "metadata": {},
   "source": [
    "Ошибки гетероскедастичны, значит, значимость признаков может определяться неверно. Сделаем поправку Уайта:"
   ]
  },
  {
   "cell_type": "code",
   "execution_count": 128,
   "metadata": {},
   "outputs": [],
   "source": [
    "fitted2_hc1 = m2.fit(cov_type='HC1')"
   ]
  },
  {
   "cell_type": "code",
   "execution_count": 129,
   "metadata": {},
   "outputs": [
    {
     "data": {
      "text/html": [
       "<table class=\"simpletable\">\n",
       "<caption>OLS Regression Results</caption>\n",
       "<tr>\n",
       "  <th>Dep. Variable:</th>           <td>ceb</td>       <th>  R-squared:         </th> <td>   0.644</td> \n",
       "</tr>\n",
       "<tr>\n",
       "  <th>Model:</th>                   <td>OLS</td>       <th>  Adj. R-squared:    </th> <td>   0.643</td> \n",
       "</tr>\n",
       "<tr>\n",
       "  <th>Method:</th>             <td>Least Squares</td>  <th>  F-statistic:       </th> <td>   463.4</td> \n",
       "</tr>\n",
       "<tr>\n",
       "  <th>Date:</th>             <td>Wed, 04 Dec 2019</td> <th>  Prob (F-statistic):</th>  <td>  0.00</td>  \n",
       "</tr>\n",
       "<tr>\n",
       "  <th>Time:</th>                 <td>23:33:51</td>     <th>  Log-Likelihood:    </th> <td> -7734.5</td> \n",
       "</tr>\n",
       "<tr>\n",
       "  <th>No. Observations:</th>      <td>  4348</td>      <th>  AIC:               </th> <td>1.550e+04</td>\n",
       "</tr>\n",
       "<tr>\n",
       "  <th>Df Residuals:</th>          <td>  4333</td>      <th>  BIC:               </th> <td>1.559e+04</td>\n",
       "</tr>\n",
       "<tr>\n",
       "  <th>Df Model:</th>              <td>    14</td>      <th>                     </th>     <td> </td>    \n",
       "</tr>\n",
       "<tr>\n",
       "  <th>Covariance Type:</th>         <td>HC1</td>       <th>                     </th>     <td> </td>    \n",
       "</tr>\n",
       "</table>\n",
       "<table class=\"simpletable\">\n",
       "<tr>\n",
       "               <td></td>                  <th>coef</th>     <th>std err</th>      <th>z</th>      <th>P>|z|</th>  <th>[0.025</th>    <th>0.975]</th>  \n",
       "</tr>\n",
       "<tr>\n",
       "  <th>Intercept</th>                   <td>   -1.0698</td> <td>    0.258</td> <td>   -4.152</td> <td> 0.000</td> <td>   -1.575</td> <td>   -0.565</td>\n",
       "</tr>\n",
       "<tr>\n",
       "  <th>age</th>                         <td>    0.1702</td> <td>    0.004</td> <td>   38.746</td> <td> 0.000</td> <td>    0.162</td> <td>    0.179</td>\n",
       "</tr>\n",
       "<tr>\n",
       "  <th>educ</th>                        <td>   -0.0729</td> <td>    0.007</td> <td>  -10.311</td> <td> 0.000</td> <td>   -0.087</td> <td>   -0.059</td>\n",
       "</tr>\n",
       "<tr>\n",
       "  <th>idlnchld</th>                    <td>    0.0770</td> <td>    0.014</td> <td>    5.323</td> <td> 0.000</td> <td>    0.049</td> <td>    0.105</td>\n",
       "</tr>\n",
       "<tr>\n",
       "  <th>knowmeth</th>                    <td>    0.5610</td> <td>    0.174</td> <td>    3.224</td> <td> 0.001</td> <td>    0.220</td> <td>    0.902</td>\n",
       "</tr>\n",
       "<tr>\n",
       "  <th>usemeth</th>                     <td>    0.6516</td> <td>    0.052</td> <td>   12.571</td> <td> 0.000</td> <td>    0.550</td> <td>    0.753</td>\n",
       "</tr>\n",
       "<tr>\n",
       "  <th>agefm</th>                       <td>   -0.0606</td> <td>    0.010</td> <td>   -6.192</td> <td> 0.000</td> <td>   -0.080</td> <td>   -0.041</td>\n",
       "</tr>\n",
       "<tr>\n",
       "  <th>heduc</th>                       <td>   -0.0573</td> <td>    0.009</td> <td>   -6.440</td> <td> 0.000</td> <td>   -0.075</td> <td>   -0.040</td>\n",
       "</tr>\n",
       "<tr>\n",
       "  <th>urban</th>                       <td>   -0.2190</td> <td>    0.045</td> <td>   -4.814</td> <td> 0.000</td> <td>   -0.308</td> <td>   -0.130</td>\n",
       "</tr>\n",
       "<tr>\n",
       "  <th>electric</th>                    <td>   -0.3207</td> <td>    0.063</td> <td>   -5.076</td> <td> 0.000</td> <td>   -0.445</td> <td>   -0.197</td>\n",
       "</tr>\n",
       "<tr>\n",
       "  <th>bicycle</th>                     <td>    0.2046</td> <td>    0.048</td> <td>    4.279</td> <td> 0.000</td> <td>    0.111</td> <td>    0.298</td>\n",
       "</tr>\n",
       "<tr>\n",
       "  <th>nevermar</th>                    <td>   -2.2501</td> <td>    0.202</td> <td>  -11.158</td> <td> 0.000</td> <td>   -2.645</td> <td>   -1.855</td>\n",
       "</tr>\n",
       "<tr>\n",
       "  <th>idlnchld_noans</th>              <td>    0.6565</td> <td>    0.216</td> <td>    3.043</td> <td> 0.002</td> <td>    0.234</td> <td>    1.079</td>\n",
       "</tr>\n",
       "<tr>\n",
       "  <th>heduc_noans</th>                 <td>   -0.8853</td> <td>    0.191</td> <td>   -4.638</td> <td> 0.000</td> <td>   -1.259</td> <td>   -0.511</td>\n",
       "</tr>\n",
       "<tr>\n",
       "  <th>idlnusemeth_noanschld_noans</th> <td>    0.7732</td> <td>    0.212</td> <td>    3.639</td> <td> 0.000</td> <td>    0.357</td> <td>    1.190</td>\n",
       "</tr>\n",
       "</table>\n",
       "<table class=\"simpletable\">\n",
       "<tr>\n",
       "  <th>Omnibus:</th>       <td>224.096</td> <th>  Durbin-Watson:     </th> <td>   1.886</td> \n",
       "</tr>\n",
       "<tr>\n",
       "  <th>Prob(Omnibus):</th> <td> 0.000</td>  <th>  Jarque-Bera (JB):  </th> <td> 856.760</td> \n",
       "</tr>\n",
       "<tr>\n",
       "  <th>Skew:</th>          <td> 0.004</td>  <th>  Prob(JB):          </th> <td>9.06e-187</td>\n",
       "</tr>\n",
       "<tr>\n",
       "  <th>Kurtosis:</th>      <td> 5.175</td>  <th>  Cond. No.          </th> <td>    345.</td> \n",
       "</tr>\n",
       "</table><br/><br/>Warnings:<br/>[1] Standard Errors are heteroscedasticity robust (HC1)"
      ],
      "text/plain": [
       "<class 'statsmodels.iolib.summary.Summary'>\n",
       "\"\"\"\n",
       "                            OLS Regression Results                            \n",
       "==============================================================================\n",
       "Dep. Variable:                    ceb   R-squared:                       0.644\n",
       "Model:                            OLS   Adj. R-squared:                  0.643\n",
       "Method:                 Least Squares   F-statistic:                     463.4\n",
       "Date:                Wed, 04 Dec 2019   Prob (F-statistic):               0.00\n",
       "Time:                        23:33:51   Log-Likelihood:                -7734.5\n",
       "No. Observations:                4348   AIC:                         1.550e+04\n",
       "Df Residuals:                    4333   BIC:                         1.559e+04\n",
       "Df Model:                          14                                         \n",
       "Covariance Type:                  HC1                                         \n",
       "===============================================================================================\n",
       "                                  coef    std err          z      P>|z|      [0.025      0.975]\n",
       "-----------------------------------------------------------------------------------------------\n",
       "Intercept                      -1.0698      0.258     -4.152      0.000      -1.575      -0.565\n",
       "age                             0.1702      0.004     38.746      0.000       0.162       0.179\n",
       "educ                           -0.0729      0.007    -10.311      0.000      -0.087      -0.059\n",
       "idlnchld                        0.0770      0.014      5.323      0.000       0.049       0.105\n",
       "knowmeth                        0.5610      0.174      3.224      0.001       0.220       0.902\n",
       "usemeth                         0.6516      0.052     12.571      0.000       0.550       0.753\n",
       "agefm                          -0.0606      0.010     -6.192      0.000      -0.080      -0.041\n",
       "heduc                          -0.0573      0.009     -6.440      0.000      -0.075      -0.040\n",
       "urban                          -0.2190      0.045     -4.814      0.000      -0.308      -0.130\n",
       "electric                       -0.3207      0.063     -5.076      0.000      -0.445      -0.197\n",
       "bicycle                         0.2046      0.048      4.279      0.000       0.111       0.298\n",
       "nevermar                       -2.2501      0.202    -11.158      0.000      -2.645      -1.855\n",
       "idlnchld_noans                  0.6565      0.216      3.043      0.002       0.234       1.079\n",
       "heduc_noans                    -0.8853      0.191     -4.638      0.000      -1.259      -0.511\n",
       "idlnusemeth_noanschld_noans     0.7732      0.212      3.639      0.000       0.357       1.190\n",
       "==============================================================================\n",
       "Omnibus:                      224.096   Durbin-Watson:                   1.886\n",
       "Prob(Omnibus):                  0.000   Jarque-Bera (JB):              856.760\n",
       "Skew:                           0.004   Prob(JB):                    9.06e-187\n",
       "Kurtosis:                       5.175   Cond. No.                         345.\n",
       "==============================================================================\n",
       "\n",
       "Warnings:\n",
       "[1] Standard Errors are heteroscedasticity robust (HC1)\n",
       "\"\"\""
      ]
     },
     "execution_count": 129,
     "metadata": {},
     "output_type": "execute_result"
    }
   ],
   "source": [
    "fitted2_hc1.summary()"
   ]
  },
  {
   "cell_type": "code",
   "execution_count": null,
   "metadata": {},
   "outputs": [],
   "source": []
  }
 ],
 "metadata": {
  "kernelspec": {
   "display_name": "Python 3",
   "language": "python",
   "name": "python3"
  },
  "language_info": {
   "codemirror_mode": {
    "name": "ipython",
    "version": 3
   },
   "file_extension": ".py",
   "mimetype": "text/x-python",
   "name": "python",
   "nbconvert_exporter": "python",
   "pygments_lexer": "ipython3",
   "version": "3.7.0"
  }
 },
 "nbformat": 4,
 "nbformat_minor": 2
}
